{
 "cells": [
  {
   "cell_type": "markdown",
   "source": [
    "# Part of Speech Tagger (FeedForward & RNN comparison)\n",
    "In this notebook we train two Neural Networks for Part of Speech (POS) task. First we use unsupervised pretrained  word\n",
    "embeddings (vector representation of words) of GloVe-WiKi 50D and UD_English-GUM Dataset contained train, validation & test\n",
    "examples of sentences and POS tag per word. Second we preprocess the dataset using word embeddings using two types of\n",
    "preprocessing objects, the first for Slided Window FeedForward model and the second for RNN model.\n",
    "\n",
    "After the preprocessing, we train models using early stopping & normalized gradient clipping methods. We give examples of\n",
    "POS tagging on sentences.\n",
    "\n",
    "For visualizing the results we plot Cost (Categorical Cross Entropy) & Score (F1 score) curves per\n",
    "epoch and Recall/Precision curve printing the Area Under the Curve (AUC)."
   ],
   "metadata": {
    "collapsed": false,
    "pycharm": {
     "name": "#%% md\n"
    }
   }
  },
  {
   "cell_type": "markdown",
   "source": [
    "## Additional Packages & Dataset downloading"
   ],
   "metadata": {
    "collapsed": false
   }
  },
  {
   "cell_type": "code",
   "execution_count": null,
   "outputs": [],
   "source": [
    "!pip install conllu\n",
    "!pip install tensorflow_datasets\n",
    "!pip install tensorflow_addons\n",
    "!pip install gensim"
   ],
   "metadata": {
    "collapsed": false,
    "pycharm": {
     "name": "#%%\n"
    }
   }
  },
  {
   "cell_type": "code",
   "execution_count": null,
   "outputs": [],
   "source": [
    "!wget https://github.com/UniversalDependencies/UD_English-GUM/archive/master.zip\n",
    "!unzip master.zip"
   ],
   "metadata": {
    "collapsed": false,
    "pycharm": {
     "name": "#%%\n"
    }
   }
  },
  {
   "cell_type": "code",
   "execution_count": 3,
   "outputs": [],
   "source": [
    "from algomorphism.base import LossBase, BaseNeuralNetwork, MetricBase\n",
    "from algomorphism.figures.nn import multiple_models_history_figure\n",
    "from algomorphism.losses import ClassWeightedCategoricalCrossEntropy as ClassWeightedCategoricalCrossEntropyLoss\n",
    "from algomorphism.metrics import ClassWeightedCategoricalCrossEntropy as ClassWeightedCategoricalCrossEntropyMetric\n",
    "\n",
    "import tensorflow as tf\n",
    "from tensorflow.keras.optimizers import Adam\n",
    "from tensorflow.keras.layers import Dense, Dropout, PReLU, BatchNormalization, Input\n",
    "from tensorflow.keras.layers import Embedding, TimeDistributed, LSTM, Bidirectional\n",
    "from tensorflow.keras.preprocessing.sequence import pad_sequences\n",
    "\n",
    "import tensorflow_addons as tfa\n",
    "import numpy as np\n",
    "from sklearn.preprocessing import LabelBinarizer\n",
    "\n",
    "\n",
    "from conllu import parse_incr\n",
    "import gensim.downloader as api\n",
    "import tensorflow_datasets as tfds\n",
    "import matplotlib.pyplot as plt"
   ],
   "metadata": {
    "collapsed": false,
    "pycharm": {
     "name": "#%%\n"
    }
   }
  },
  {
   "cell_type": "code",
   "execution_count": null,
   "outputs": [],
   "source": [
    "# Optional GPU usage\n",
    "\n",
    "# for gpu in tf.config.list_physical_devices('GPU'):\n",
    "#     print(gpu)\n",
    "#     tf.config.experimental.set_memory_growth(gpu, True)\n"
   ],
   "metadata": {
    "collapsed": false,
    "pycharm": {
     "name": "#%%\n"
    }
   }
  },
  {
   "cell_type": "markdown",
   "source": [
    "## Preprocessing\n"
   ],
   "metadata": {
    "collapsed": false
   }
  },
  {
   "cell_type": "markdown",
   "source": [
    "### Load GloVe word embeddings model"
   ],
   "metadata": {
    "collapsed": false
   }
  },
  {
   "cell_type": "code",
   "execution_count": 5,
   "outputs": [],
   "source": [
    "word2vec_model = api.load('glove-wiki-gigaword-50')\n"
   ],
   "metadata": {
    "collapsed": false,
    "pycharm": {
     "name": "#%%\n"
    }
   }
  },
  {
   "cell_type": "markdown",
   "source": [
    "### Dataset objects for preprocessing and getting dataset examples"
   ],
   "metadata": {
    "collapsed": false
   }
  },
  {
   "cell_type": "code",
   "execution_count": 6,
   "outputs": [],
   "source": [
    "class PosFfDataset(object):\n",
    "  \"\"\"\n",
    "  POS Dataset object for FeedForward model\n",
    "  \"\"\"\n",
    "  def __init__(self, word2vec_model, window=1):\n",
    "    self.word2vec_model = word2vec_model\n",
    "    self.__w = window\n",
    "\n",
    "  def set_data_from_files(self, train_path, val_path, test_path):\n",
    "    file_trn = open(train_path)\n",
    "    self.__x_train, tags_train, self.__vocab = self.__window_word2vec_and_tags_training(file_trn)\n",
    "\n",
    "    file_val = open(val_path)\n",
    "    self.__x_val, tags_val = self.__window_word2vec_and_tags_val_test(file_val)\n",
    "\n",
    "    file_test = open(test_path)\n",
    "    self.__x_test, tags_test = self.__window_word2vec_and_tags_val_test(file_test)\n",
    "\n",
    "\n",
    "    self.__lb = LabelBinarizer()\n",
    "    tag_classes = list(set(tags_train))\n",
    "    self.__lb.fit(tag_classes)\n",
    "\n",
    "    self.__y_train = self.__lb.transform(tags_train)\n",
    "    self.__y_val = self.__lb.transform(tags_val)\n",
    "    self.__y_test = self.__lb.transform(tags_test)\n",
    "\n",
    "    self.train = tf.data.Dataset.from_tensor_slices((\n",
    "        tf.cast(self.__x_train, tf.float32),\n",
    "        tf.cast(self.__y_train, tf.int64)\n",
    "    )).batch(128)\n",
    "\n",
    "    self.val = tf.data.Dataset.from_tensor_slices((\n",
    "        tf.cast(self.__x_val, tf.float32),\n",
    "        tf.cast(self.__y_val, tf.int64)\n",
    "    )).batch(128)\n",
    "\n",
    "    self.test = tf.data.Dataset.from_tensor_slices((\n",
    "        tf.cast(self.__x_test, tf.float32),\n",
    "        tf.cast(self.__y_test, tf.int64)\n",
    "    )).batch(128)\n",
    "\n",
    "  def __plus_operator_sliding_window(self, words2vecs):\n",
    "    if self.__w == 1:\n",
    "      return words2vecs\n",
    "\n",
    "    words2vecs = np.array(words2vecs)\n",
    "    N = words2vecs.shape[0]\n",
    "    words2vecs = np.concatenate((np.zeros(((self.__w-1)//2, words2vecs.shape[1])),\n",
    "                                words2vecs,\n",
    "                                np.zeros(((self.__w-1)//2, words2vecs.shape[1]))\n",
    "                                ),axis=0)\n",
    "    sent_embedings = []\n",
    "    for i in range(0, N):\n",
    "      sent_embedings.append(\n",
    "          words2vecs[i:i+self.__w].sum(axis=0)\n",
    "      )\n",
    "    return sent_embedings\n",
    "\n",
    "  # this is useful for preprocess train, val, test data\n",
    "  def __window_word2vec_and_tags_training(self, file):\n",
    "    window_embedings = []\n",
    "    tags = []\n",
    "    vocab = set()\n",
    "    for sent in parse_incr(file):\n",
    "      words2vecs = []\n",
    "      for word in sent:\n",
    "        try:\n",
    "          words2vecs.append(self.word2vec_model[word['form']])\n",
    "          tags.append(word['upostag'])\n",
    "          vocab.add(word['form'])\n",
    "        except Exception as e:\n",
    "          pass\n",
    "\n",
    "      if len(words2vecs) != 0:\n",
    "        window_embedings+= self.__plus_operator_sliding_window(words2vecs)\n",
    "\n",
    "    window_embedings = np.array(window_embedings)\n",
    "    return window_embedings, tags, vocab\n",
    "\n",
    "  def __window_word2vec_and_tags_val_test(self, file):\n",
    "    window_embedings = []\n",
    "    tags = []\n",
    "    for sent in parse_incr(file):\n",
    "      words2vecs = []\n",
    "      for word in sent:\n",
    "        try:\n",
    "          if word['form'] in self.__vocab:\n",
    "            words2vecs.append(self.word2vec_model[word['form']])\n",
    "          else:\n",
    "            var = self.word2vec_model[word['form']]\n",
    "            words2vecs.append(np.zeros(self.word2vec_model.vector_size,))\n",
    "          tags.append(word['upostag'])\n",
    "        except Exception as e:\n",
    "          pass\n",
    "\n",
    "      if len(words2vecs) != 0:\n",
    "        window_embedings+= self.__plus_operator_sliding_window(words2vecs)\n",
    "\n",
    "    window_embedings = np.array(window_embedings)\n",
    "    return window_embedings, tags\n",
    "\n",
    "  def window_word2vec_sentece(self,sentence):\n",
    "    words2vecs = []\n",
    "    listtag = []\n",
    "    for word in sentence.split():\n",
    "      try:\n",
    "        if word in self.__vocab:\n",
    "          words2vecs.append(self.word2vec_model[word])\n",
    "        else:\n",
    "          words2vecs.append(np.zeros(self.word2vec_model.vector_size,))\n",
    "        listtag.append([word, ''])\n",
    "      except Exception as e:\n",
    "        listtag.append([word, None])\n",
    "\n",
    "    if len(words2vecs) != 0:\n",
    "      sent_embedings = self.__plus_operator_sliding_window(words2vecs)\n",
    "    else:\n",
    "      return None, listtag\n",
    "\n",
    "    sent_embedings = np.array(sent_embedings)\n",
    "    return sent_embedings, listtag\n",
    "\n",
    "  def get_numpy_dataset(self):\n",
    "    return self.__x_train, self.__y_train, self.__x_val, self.__y_val, self.__x_test, self.__y_test\n",
    "\n",
    "  def get_numpy2tag(self, y_, onehot=False):\n",
    "    if onehot:\n",
    "      y_ = np.array(y_).argmax(axis=1)\n",
    "    return self.__lb.classes_[y_]\n",
    "\n",
    "  def get_tags_names(self):\n",
    "    return self.__lb.classes_"
   ],
   "metadata": {
    "collapsed": false,
    "pycharm": {
     "name": "#%%\n"
    }
   }
  },
  {
   "cell_type": "code",
   "execution_count": 7,
   "outputs": [],
   "source": [
    "class PosRnnDataset(object):\n",
    "  \"\"\"\n",
    "  POS Dataset object for RNN model\n",
    "  \"\"\"\n",
    "  def __init__(self, word2vec_model):\n",
    "    self.word2vec_model = word2vec_model\n",
    "\n",
    "  def get_numpy_dataset(self):\n",
    "    return self.__x_train, self.__y_train, self.__x_val, self.__y_val, self.__x_test, self.__y_test\n",
    "\n",
    "  def __pad_sequence(self, sequence_sent, sequence_tag):\n",
    "    x = pad_sequences(sequence_sent, maxlen=self.__max_length_sent, padding='post', value=self.sents_encode(['__PAD__'])[0][0])\n",
    "    sequence_tag = pad_sequences(sequence_tag, maxlen=self.__max_length_sent, padding='post', value=self.tags_encode(['__PAD__'])[0][0])\n",
    "    y = np.array([self.__lb.transform([int(tag) for tag in list(sequence)]) for sequence in list(sequence_tag)])\n",
    "    return x, y\n",
    "\n",
    "  def tag_decode(self, seqquence_tag):\n",
    "    tag_dec = []\n",
    "    for seq in seqquence_tag:\n",
    "      tag_dec.append(self.__tags_encoder.decode(seq))\n",
    "    return tag_dec\n",
    "\n",
    "  def sent_decode(self, sequence_sent):\n",
    "    sents_dec = self.__text_encoder.sequences_to_texts(sequence_sent)\n",
    "    return sents_dec\n",
    "\n",
    "  def tags_encode(self, tags):\n",
    "    tag_enc = []\n",
    "    for tag in tags:\n",
    "      tag_enc.append(self.__tags_encoder.encode(tag))\n",
    "    return tag_enc\n",
    "\n",
    "  def sents_encode(self, sents):\n",
    "    sents_enc = self.__text_encoder.texts_to_sequences(sents)\n",
    "    return sents_enc\n",
    "\n",
    "  def __set_up_data_from_train_file(self, file_path):\n",
    "    vocab = set()\n",
    "    sents = []\n",
    "    tags = []\n",
    "    tags_set = set()\n",
    "    file_obj = open(file_path)\n",
    "    max_length_sent = 0\n",
    "    for sent in parse_incr(file_obj):\n",
    "      tags.append('')\n",
    "      sents.append('')\n",
    "      if len(sent) > max_length_sent:\n",
    "        max_length_sent = len(sent)\n",
    "      for w in sent:\n",
    "        try:\n",
    "          # check if word exist on word emb\n",
    "          word = str.lower(w['form'])\n",
    "          var = self.word2vec_model[word]\n",
    "          sents[-1]+= ' '+str(word)\n",
    "          vocab.add(str(word))\n",
    "        except Exception as e:\n",
    "          # remove the word that doesnt contain in word2vec_model\n",
    "          sents[-1] += ' '+'__OOV__'\n",
    "          vocab.add('__OOV__')\n",
    "\n",
    "        tags[-1] +=  ' '+w['upostag']\n",
    "        tags_set.add(w['upostag'])\n",
    "\n",
    "\n",
    "    self.__max_length_sent = max_length_sent\n",
    "    tags_set.add('__PAD__')\n",
    "    vocab.add('__PAD__')\n",
    "\n",
    "    self.__vocab_size = len(vocab)+1\n",
    "    self.__tags_size = len(tags_set)\n",
    "\n",
    "    # we experimented with two tf Tokenizers(encoders or more simply coders) tf.keras and tfds Tokenizer(for big corpus)\n",
    "    self.__text_encoder = tf.keras.preprocessing.text.Tokenizer(self.__vocab_size, oov_token='__UNK__', filters='', lower=False)\n",
    "    self.__text_encoder.fit_on_texts([' '.join(list(vocab))])\n",
    "    self.__tags_encoder = tfds.deprecated.text.TokenTextEncoder(\n",
    "      list(tags_set),\n",
    "      tokenizer=tfds.deprecated.text.Tokenizer(\n",
    "        alphanum_only=True\n",
    "      )\n",
    "    )\n",
    "\n",
    "    embedding_dim = self.word2vec_model.vector_size\n",
    "    embedding_matrix = np.zeros((self.__vocab_size, embedding_dim))\n",
    "    for word in vocab:\n",
    "      index = self.sents_encode([word])[0][0]\n",
    "      try:\n",
    "        embedding_matrix[index] = self.word2vec_model[word]\n",
    "      except:\n",
    "        pass\n",
    "\n",
    "    self.__embedding_matrix = embedding_matrix\n",
    "    self.__lb = LabelBinarizer()\n",
    "\n",
    "    tags_code = [int(tag) for tag in self.__tags_encoder.encode(' '.join(list(tags_set)))]\n",
    "    self.__lb.fit(tags_code)\n",
    "    sequence_sent = self.sents_encode(sents)\n",
    "\n",
    "\n",
    "    sequence_tag = self.tags_encode(tags)\n",
    "    x_train, y_train = self.__pad_sequence(sequence_sent, sequence_tag)\n",
    "    return x_train, y_train\n",
    "\n",
    "\n",
    "  def __set_up_data_from_val_or_test_file(self, file_path):\n",
    "    sents = []\n",
    "    tags = []\n",
    "    file_obj = open(file_path)\n",
    "    for sent in parse_incr(file_obj):\n",
    "      tags.append('')\n",
    "      sents.append('')\n",
    "      for w in sent:\n",
    "        try:\n",
    "          word = str.lower(w['form'])\n",
    "          var = self.word2vec_model[word]\n",
    "          sents[-1]+= ' '+word\n",
    "        except Exception as e:\n",
    "          # remove the word that doesnt contain in word2vec_model\n",
    "          sents[-1] += ' '+'__OOV__'\n",
    "        tags[-1] +=  ' '+w['upostag']\n",
    "\n",
    "    sequence_sent = self.sents_encode(sents)\n",
    "    sequence_tag = self.tags_encode(tags)\n",
    "    x, y = self.__pad_sequence(sequence_sent, sequence_tag)\n",
    "    return x, y\n",
    "\n",
    "  def set_data_from_files(self,train_path, val_path, test_path):\n",
    "\n",
    "    self.__x_train, self.__y_train = self.__set_up_data_from_train_file(train_path)\n",
    "\n",
    "    self.train = tf.data.Dataset.from_tensor_slices((\n",
    "        tf.cast(self.__x_train, tf.int32),\n",
    "        tf.cast(self.__y_train, tf.float32)\n",
    "    )).batch(128)\n",
    "\n",
    "    self.__x_val, self.__y_val = self.__set_up_data_from_val_or_test_file(val_path)\n",
    "    self.__x_test, self.__y_test = self.__set_up_data_from_val_or_test_file(test_path)\n",
    "\n",
    "    self.val = tf.data.Dataset.from_tensor_slices((\n",
    "        tf.cast(self.__x_val, tf.int32),\n",
    "        tf.cast(self.__y_val, tf.float32)\n",
    "    )).batch(128)\n",
    "\n",
    "    self.test = tf.data.Dataset.from_tensor_slices((\n",
    "        tf.cast(self.__x_test, tf.int32),\n",
    "        tf.cast(self.__y_test, tf.float32)\n",
    "    )).batch(128)\n",
    "\n",
    "  def get_max_length_sent(self):\n",
    "    return self.__max_length_sent\n",
    "\n",
    "  def get_vocab_size(self):\n",
    "    return self.__vocab_size\n",
    "\n",
    "  def get_tags_size(self):\n",
    "    return self.__tags_size\n",
    "\n",
    "  def get_embedding_matrix(self):\n",
    "    return self.__embedding_matrix"
   ],
   "metadata": {
    "collapsed": false,
    "pycharm": {
     "name": "#%%\n"
    }
   }
  },
  {
   "cell_type": "markdown",
   "source": [
    "## Neural Network Models"
   ],
   "metadata": {
    "collapsed": false,
    "pycharm": {
     "name": "#%% md\n"
    }
   }
  },
  {
   "cell_type": "markdown",
   "source": [
    "### FeedForward"
   ],
   "metadata": {
    "collapsed": false,
    "pycharm": {
     "name": "#%% md\n"
    }
   }
  },
  {
   "cell_type": "code",
   "execution_count": 8,
   "outputs": [],
   "source": [
    "class FeedForward(tf.keras.Model, BaseNeuralNetwork):\n",
    "  def __init__(self, dataset, x_dim, n_class, optimizer=None, clip_norm=0.0, early_stop_vars=None):\n",
    "    tf.keras.Model.__init__(self, name='ff')\n",
    "    status = [\n",
    "      [0],\n",
    "      [1, 2]\n",
    "    ]\n",
    "\n",
    "    self.score_mtr = MetricBase(self,\n",
    "                                [tfa.metrics.F1Score(n_class, average='micro')],\n",
    "                                status,\n",
    "                                [0]\n",
    "                              )\n",
    "\n",
    "    self.cost_mtr = MetricBase(self,\n",
    "                                [tf.keras.metrics.CategoricalCrossentropy()],\n",
    "                                status,\n",
    "                                [0],\n",
    "                                1\n",
    "                              )\n",
    "\n",
    "    self.cost_loss = LossBase(self,\n",
    "                              [tf.keras.losses.CategoricalCrossentropy()],\n",
    "                              status,\n",
    "                              [0]\n",
    "                            )\n",
    "\n",
    "    BaseNeuralNetwork.__init__(self, status, dataset=dataset, optimizer=optimizer,\n",
    "                               clip_norm=clip_norm, early_stop_vars=early_stop_vars)\n",
    "\n",
    "    self.n_class = n_class\n",
    "    self.x_dim = x_dim\n",
    "\n",
    "    self.Input = Input(self.x_dim)\n",
    "\n",
    "    self.dense1 = Dense(128, name='dense1')\n",
    "    self.batchnorm1 = BatchNormalization(name='batchnorm1')\n",
    "    self.prelu1 =  PReLU(name='prelu1')\n",
    "    self.drop1 = Dropout(0.25, name='drop1')\n",
    "\n",
    "    self.dense2 = Dense(256, name='dense2')\n",
    "    self.batchnorm2 = BatchNormalization(name='batchnorm2')\n",
    "    self.prelu2 =  PReLU(name='prelu2')\n",
    "    self.drop2 = Dropout(0.3, name='drop2')\n",
    "\n",
    "    self.dense3 = Dense(512, name='dense3')\n",
    "    self.batchnorm3 = BatchNormalization(name='batchnorm3')\n",
    "    self.prelu3 =  PReLU(name='prelu3')\n",
    "    self.drop3 = Dropout(0.35, name='drop3')\n",
    "\n",
    "    self.softmax = Dense(self.n_class, activation=\"softmax\",name='softmax')\n",
    "\n",
    "  def call(self, inputs):\n",
    "\n",
    "    x = self.dense1(inputs[0])\n",
    "    x = self.batchnorm1(x)\n",
    "    x = self.prelu1(x)\n",
    "    x = self.drop1(x)\n",
    "\n",
    "    x = self.dense2(x)\n",
    "    x = self.batchnorm2(x)\n",
    "    x = self.prelu2(x)\n",
    "    x = self.drop2(x)\n",
    "\n",
    "    x = self.dense3(x)\n",
    "    x = self.batchnorm3(x)\n",
    "    x = self.prelu3(x)\n",
    "    x = self.drop3(x)\n",
    "\n",
    "    y = self.softmax(x)\n",
    "\n",
    "    return tuple((y,))"
   ],
   "metadata": {
    "collapsed": false,
    "pycharm": {
     "name": "#%%\n"
    }
   }
  },
  {
   "cell_type": "markdown",
   "source": [
    "### RNN\n",
    "The data is unbalance, so we use Class Weighted Categorical Cross Entropy cost and F1 score."
   ],
   "metadata": {
    "collapsed": false
   }
  },
  {
   "cell_type": "code",
   "execution_count": 9,
   "outputs": [],
   "source": [
    "class RNN(tf.keras.Model, BaseNeuralNetwork):\n",
    "\n",
    "  def __init__(self, max_length_sent, vocab_size, n_class, embedding_matrix, dataset, class_weights, optimizer=None,\n",
    "               clip_norm=0.0, early_stop_vars=None):\n",
    "\n",
    "    tf.keras.Model.__init__(self, name='rnn')\n",
    "    status = [\n",
    "          [0],\n",
    "          [1, 2]\n",
    "        ]\n",
    "\n",
    "    self.score_mtr = MetricBase(self,\n",
    "                                [tfa.metrics.F1Score(n_class, average='micro')],\n",
    "                                status,\n",
    "                                [0]\n",
    "                              )\n",
    "\n",
    "    self.cost_mtr = MetricBase(self,\n",
    "                               [ClassWeightedCategoricalCrossEntropyMetric(class_weights)],\n",
    "                               status,\n",
    "                               [0],\n",
    "                               1\n",
    "                              )\n",
    "\n",
    "    self.cost_loss = LossBase(self,\n",
    "                              [ClassWeightedCategoricalCrossEntropyLoss(class_weights)],\n",
    "                              status,\n",
    "                              [0]\n",
    "                            )\n",
    "\n",
    "    BaseNeuralNetwork.__init__(self, status, dataset=dataset,\n",
    "                           optimizer=optimizer,\n",
    "                           clip_norm=clip_norm,\n",
    "                           early_stop_vars=early_stop_vars)\n",
    "\n",
    "    self.Input = Input((max_length_sent,))\n",
    "    self.embedding = Embedding(vocab_size, embedding_matrix.shape[1],\n",
    "      mask_zero=True, trainable=True, weights=[embedding_matrix])\n",
    "\n",
    "    self.lstm = LSTM(512, return_sequences=True, name='lstm', activation='tanh')\n",
    "    self.bidirectional = Bidirectional(self.lstm, name='bidirectional')\n",
    "    self.timedistributed = TimeDistributed(Dense(n_class, 'softmax'))\n",
    "\n",
    "  def call(self, inputs):\n",
    "    x = self.embedding(inputs[0])\n",
    "    x = self.bidirectional(x)\n",
    "    y = self.timedistributed(x)\n",
    "\n",
    "    return tuple((y,))"
   ],
   "metadata": {
    "collapsed": false,
    "pycharm": {
     "name": "#%%\n"
    }
   }
  },
  {
   "cell_type": "markdown",
   "source": [
    "## Load Examples"
   ],
   "metadata": {
    "collapsed": false,
    "pycharm": {
     "name": "#%% md\n"
    }
   }
  },
  {
   "cell_type": "code",
   "execution_count": null,
   "outputs": [],
   "source": [
    "pos_ff = PosFfDataset(word2vec_model, 3)\n",
    "pos_rnn = PosRnnDataset(word2vec_model)\n",
    "\n",
    "train_path = 'UD_English-GUM-master/en_gum-ud-train.conllu'\n",
    "test_path = 'UD_English-GUM-master/en_gum-ud-test.conllu'\n",
    "val_path = 'UD_English-GUM-master/en_gum-ud-dev.conllu'\n",
    "\n",
    "pos_ff.set_data_from_files(train_path, val_path, test_path)\n",
    "pos_rnn.set_data_from_files(train_path, val_path, test_path)"
   ],
   "metadata": {
    "collapsed": false,
    "pycharm": {
     "name": "#%%\n"
    }
   }
  },
  {
   "cell_type": "markdown",
   "source": [
    "## Early stopping vars and class weights computation\n",
    "We use patience early stopping method, that means we track val score and if it doesn't change for specific epochs\n",
    "(in our case 10) the training process stops. Also, we compute the class weights for rnn model."
   ],
   "metadata": {
    "collapsed": false
   }
  },
  {
   "cell_type": "code",
   "execution_count": 11,
   "outputs": [
    {
     "name": "stderr",
     "output_type": "stream",
     "text": [
      "2021-10-26 19:02:15.254769: W tensorflow/core/framework/cpu_allocator_impl.cc:80] Allocation of 85231872 exceeds 10% of free system memory.\n"
     ]
    }
   ],
   "source": [
    "early_stop_vars = {\n",
    "  'es_strategy':'patience',\n",
    "  'es_metric':'val_score',\n",
    "  'es_min_delta': 1e-3,\n",
    "  'es_patience': 10\n",
    "}\n",
    "\n",
    "y_train_rnn = pos_rnn.get_numpy_dataset()[1]\n",
    "y_train_rnn = y_train_rnn.reshape(y_train_rnn.shape[0]*y_train_rnn.shape[1], y_train_rnn.shape[2]).astype(np.float)\n",
    "class_weights = tf.reduce_mean(y_train_rnn, axis=0)\n",
    "class_weights = 1 - tf.cast(class_weights, tf.float32)"
   ],
   "metadata": {
    "collapsed": false,
    "pycharm": {
     "name": "#%%\n"
    }
   }
  },
  {
   "cell_type": "markdown",
   "source": [
    "## Initialize and train nn models"
   ],
   "metadata": {
    "collapsed": false,
    "pycharm": {
     "name": "#%% md\n"
    }
   }
  },
  {
   "cell_type": "code",
   "execution_count": 12,
   "outputs": [],
   "source": [
    "opt_ff = Adam(learning_rate=1e-2)\n",
    "ff = FeedForward(dataset=pos_ff,\n",
    "                 x_dim=pos_ff.get_numpy_dataset()[0].shape[1:],\n",
    "                 n_class=len(pos_ff.get_tags_names()),\n",
    "                 optimizer=opt_ff,\n",
    "                 clip_norm=0.1,\n",
    "                 early_stop_vars=early_stop_vars)"
   ],
   "metadata": {
    "collapsed": false,
    "pycharm": {
     "name": "#%%\n"
    }
   }
  },
  {
   "cell_type": "code",
   "execution_count": 13,
   "outputs": [
    {
     "name": "stdout",
     "output_type": "stream",
     "text": [
      "Epoch 1 finished\n",
      "train cost: 1.7466228008270264\n",
      "train score: 0.38291147351264954\n",
      "val cost: 1.8226206302642822\n",
      "val score: 0.3581964373588562\n",
      "Epoch 2 finished\n",
      "train cost: 1.6100162267684937\n",
      "train score: 0.417638897895813\n",
      "val cost: 1.7264833450317383\n",
      "val score: 0.3811255097389221\n",
      "Epoch 3 finished\n",
      "train cost: 1.5602259635925293\n",
      "train score: 0.42795252799987793\n",
      "val cost: 1.6823515892028809\n",
      "val score: 0.38951414823532104\n",
      "Epoch 4 finished\n",
      "train cost: 1.5112422704696655\n",
      "train score: 0.4444747567176819\n",
      "val cost: 1.642221212387085\n",
      "val score: 0.40111851692199707\n",
      "Epoch 5 finished\n",
      "train cost: 1.4844539165496826\n",
      "train score: 0.45350345969200134\n",
      "val cost: 1.629662275314331\n",
      "val score: 0.4037749171257019\n",
      "Epoch 6 finished\n",
      "train cost: 1.4490309953689575\n",
      "train score: 0.4667167067527771\n",
      "val cost: 1.6097511053085327\n",
      "val score: 0.41461026668548584\n",
      "Epoch 7 finished\n",
      "train cost: 1.4280977249145508\n",
      "train score: 0.47218620777130127\n",
      "val cost: 1.607806921005249\n",
      "val score: 0.41461026668548584\n",
      "Epoch 8 finished\n",
      "train cost: 1.3923726081848145\n",
      "train score: 0.48372790217399597\n",
      "val cost: 1.5919653177261353\n",
      "val score: 0.4225795269012451\n",
      "Epoch 9 finished\n",
      "train cost: 1.3684637546539307\n",
      "train score: 0.49127835035324097\n",
      "val cost: 1.591370701789856\n",
      "val score: 0.4236280918121338\n",
      "Epoch 10 finished\n",
      "train cost: 1.3502711057662964\n",
      "train score: 0.4989311099052429\n",
      "val cost: 1.5808589458465576\n",
      "val score: 0.42537572979927063\n",
      "Epoch 11 finished\n",
      "train cost: 1.3331631422042847\n",
      "train score: 0.5053102970123291\n",
      "val cost: 1.5830475091934204\n",
      "val score: 0.4251660406589508\n",
      "Epoch 12 finished\n",
      "train cost: 1.3452260494232178\n",
      "train score: 0.5015692114830017\n",
      "val cost: 1.5902749300003052\n",
      "val score: 0.42041242122650146\n",
      "Epoch 13 finished\n",
      "train cost: 1.349501371383667\n",
      "train score: 0.49969297647476196\n",
      "val cost: 1.5920228958129883\n",
      "val score: 0.4143306612968445\n",
      "Epoch 14 finished\n",
      "train cost: 1.3263229131698608\n",
      "train score: 0.5106661319732666\n",
      "val cost: 1.5787076950073242\n",
      "val score: 0.4243970513343811\n",
      "Epoch 15 finished\n",
      "train cost: 1.300525188446045\n",
      "train score: 0.5203884243965149\n",
      "val cost: 1.5764343738555908\n",
      "val score: 0.4288710355758667\n",
      "Epoch 16 finished\n",
      "train cost: 1.2783104181289673\n",
      "train score: 0.5288599133491516\n",
      "val cost: 1.5564444065093994\n",
      "val score: 0.4402656555175781\n",
      "Epoch 17 finished\n",
      "train cost: 1.2721625566482544\n",
      "train score: 0.5336585640907288\n",
      "val cost: 1.5661393404006958\n",
      "val score: 0.441523939371109\n",
      "Epoch 18 finished\n",
      "train cost: 1.2643872499465942\n",
      "train score: 0.53435218334198\n",
      "val cost: 1.5694998502731323\n",
      "val score: 0.4385179877281189\n",
      "Epoch 19 finished\n",
      "train cost: 1.2498481273651123\n",
      "train score: 0.5402538180351257\n",
      "val cost: 1.5845396518707275\n",
      "val score: 0.4398462176322937\n",
      "Epoch 20 finished\n",
      "train cost: 1.2507069110870361\n",
      "train score: 0.5414932370185852\n",
      "val cost: 1.5913870334625244\n",
      "val score: 0.4418734610080719\n",
      "Epoch 21 finished\n",
      "train cost: 1.2565017938613892\n",
      "train score: 0.5395829081535339\n",
      "val cost: 1.5989021062850952\n",
      "val score: 0.43362459540367126\n",
      "Epoch 22 finished\n",
      "train cost: 1.2795987129211426\n",
      "train score: 0.5323053598403931\n",
      "val cost: 1.6040703058242798\n",
      "val score: 0.43677031993865967\n",
      "Epoch 23 finished\n",
      "train cost: 1.2452505826950073\n",
      "train score: 0.5447908639907837\n",
      "val cost: 1.5996005535125732\n",
      "val score: 0.44348129630088806\n",
      "Epoch 24 finished\n",
      "train cost: 1.2248461246490479\n",
      "train score: 0.551272451877594\n",
      "val cost: 1.5885869264602661\n",
      "val score: 0.4472562074661255\n",
      "Epoch 25 finished\n",
      "train cost: 1.2068222761154175\n",
      "train score: 0.5584703683853149\n",
      "val cost: 1.5977452993392944\n",
      "val score: 0.45235931873321533\n",
      "Epoch 26 finished\n",
      "train cost: 1.2025014162063599\n",
      "train score: 0.5605399012565613\n",
      "val cost: 1.6228784322738647\n",
      "val score: 0.4466969668865204\n",
      "Epoch 27 finished\n",
      "train cost: 1.2294119596481323\n",
      "train score: 0.5513861179351807\n",
      "val cost: 1.6711009740829468\n",
      "val score: 0.43711990118026733\n",
      "Epoch 28 finished\n",
      "train cost: 1.2280538082122803\n",
      "train score: 0.5514088869094849\n",
      "val cost: 1.6723804473876953\n",
      "val score: 0.43173715472221375\n",
      "Epoch 29 finished\n",
      "train cost: 1.1914852857589722\n",
      "train score: 0.5647017359733582\n",
      "val cost: 1.6744587421417236\n",
      "val score: 0.4334847927093506\n",
      "Epoch 30 finished\n",
      "train cost: 1.1830121278762817\n",
      "train score: 0.5679765939712524\n",
      "val cost: 1.6962789297103882\n",
      "val score: 0.43656063079833984\n",
      "Epoch 31 finished\n",
      "train cost: 1.2094937562942505\n",
      "train score: 0.558845579624176\n",
      "val cost: 1.7075443267822266\n",
      "val score: 0.42970988154411316\n",
      "Epoch 32 finished\n",
      "train cost: 1.1777386665344238\n",
      "train score: 0.5685110688209534\n",
      "val cost: 1.6908305883407593\n",
      "val score: 0.43635091185569763\n",
      "Epoch 33 finished\n",
      "train cost: 1.1488717794418335\n",
      "train score: 0.5790634751319885\n",
      "val cost: 1.681155800819397\n",
      "val score: 0.44180357456207275\n",
      "Epoch 34 finished\n",
      "train cost: 1.1359888315200806\n",
      "train score: 0.5863410234451294\n",
      "val cost: 1.701448678970337\n",
      "val score: 0.4481649696826935\n",
      "Epoch 35 finished\n",
      "train cost: 1.143357276916504\n",
      "train score: 0.5836346745491028\n",
      "val cost: 1.7204786539077759\n",
      "val score: 0.4429919719696045\n",
      "Epoch 36 finished\n",
      "train cost: 1.1508044004440308\n",
      "train score: 0.5825998783111572\n",
      "val cost: 1.7310559749603271\n",
      "val score: 0.44306185841560364\n",
      "Epoch 37 finished\n",
      "train cost: 1.1253150701522827\n",
      "train score: 0.5893884897232056\n",
      "val cost: 1.7219468355178833\n",
      "val score: 0.44809508323669434\n",
      "Epoch 38 finished\n",
      "train cost: 1.1151576042175293\n",
      "train score: 0.5943121314048767\n",
      "val cost: 1.7519782781600952\n",
      "val score: 0.44963300228118896\n",
      "Epoch 39 finished\n",
      "train cost: 1.1271456480026245\n",
      "train score: 0.5904118418693542\n",
      "val cost: 1.7825535535812378\n",
      "val score: 0.44292205572128296\n",
      "Epoch 40 finished\n",
      "train cost: 1.153558373451233\n",
      "train score: 0.5816560983657837\n",
      "val cost: 1.82488214969635\n",
      "val score: 0.43453338742256165\n",
      "Epoch 41 finished\n",
      "train cost: 1.1196738481521606\n",
      "train score: 0.5915603637695312\n",
      "val cost: 1.825551152229309\n",
      "val score: 0.434812992811203\n",
      "Epoch 42 finished\n",
      "train cost: 1.143570065498352\n",
      "train score: 0.5888426303863525\n",
      "val cost: 1.8532476425170898\n",
      "val score: 0.43453338742256165\n",
      "Epoch 43 finished\n",
      "train cost: 1.1712113618850708\n",
      "train score: 0.5787109732627869\n",
      "val cost: 1.8940205574035645\n",
      "val score: 0.4234882891178131\n",
      "Epoch 44 finished\n",
      "train cost: 1.1639918088912964\n",
      "train score: 0.5824748277664185\n",
      "val cost: 1.894220232963562\n",
      "val score: 0.4201328158378601\n",
      "Epoch 45 finished\n",
      "train cost: 1.1343437433242798\n",
      "train score: 0.5915035009384155\n",
      "val cost: 1.8598215579986572\n",
      "val score: 0.43418386578559875\n",
      "Epoch 46 finished\n",
      "train cost: 1.0508219003677368\n",
      "train score: 0.6164631247520447\n",
      "val cost: 1.765371322631836\n",
      "val score: 0.4534079134464264\n",
      "Epoch 47 finished\n",
      "train cost: 1.0404891967773438\n",
      "train score: 0.6211252808570862\n",
      "val cost: 1.7945951223373413\n",
      "val score: 0.45033204555511475\n",
      "Stop Training\n"
     ]
    }
   ],
   "source": [
    "ff.train(pos_ff, 50, print_types=['train', 'val'])"
   ],
   "metadata": {
    "collapsed": false,
    "pycharm": {
     "name": "#%%\n"
    }
   }
  },
  {
   "cell_type": "code",
   "execution_count": 14,
   "outputs": [],
   "source": [
    "opt_rnn = Adam(learning_rate=1e-1)\n",
    "rnn = RNN(pos_rnn.get_max_length_sent(),\n",
    "          pos_rnn.get_vocab_size(),\n",
    "          pos_rnn.get_tags_size(),\n",
    "          pos_rnn.get_embedding_matrix(),\n",
    "          dataset=pos_rnn,\n",
    "          class_weights=class_weights,\n",
    "          optimizer=opt_rnn,\n",
    "          clip_norm=0.1,\n",
    "          early_stop_vars=early_stop_vars)"
   ],
   "metadata": {
    "collapsed": false,
    "pycharm": {
     "name": "#%%\n"
    }
   }
  },
  {
   "cell_type": "code",
   "execution_count": 15,
   "outputs": [
    {
     "name": "stderr",
     "output_type": "stream",
     "text": [
      "2021-10-26 19:41:23.300855: W tensorflow/core/framework/cpu_allocator_impl.cc:80] Allocation of 42615936 exceeds 10% of free system memory.\n",
      "2021-10-26 19:41:25.622981: I tensorflow/stream_executor/cuda/cuda_dnn.cc:369] Loaded cuDNN version 8101\n"
     ]
    },
    {
     "name": "stdout",
     "output_type": "stream",
     "text": [
      "Epoch 1 finished\n",
      "WARNING:tensorflow:AutoGraph could not transform <bound method ClassWeightedCategoricalCrossEntropy.update_state of <algomorphism.metrics.ClassWeightedCategoricalCrossEntropy object at 0x7f1e40af8400>> and will run it as-is.\n",
      "Cause: mangled names are not yet supported\n",
      "To silence this warning, decorate the function with @tf.autograph.experimental.do_not_convert\n",
      "WARNING: AutoGraph could not transform <bound method ClassWeightedCategoricalCrossEntropy.update_state of <algomorphism.metrics.ClassWeightedCategoricalCrossEntropy object at 0x7f1e40af8400>> and will run it as-is.\n",
      "Cause: mangled names are not yet supported\n",
      "To silence this warning, decorate the function with @tf.autograph.experimental.do_not_convert\n",
      "WARNING:tensorflow:AutoGraph could not transform <bound method ClassWeightedCategoricalCrossEntropy.result of <algomorphism.metrics.ClassWeightedCategoricalCrossEntropy object at 0x7f1e40af8400>> and will run it as-is.\n",
      "Cause: mangled names are not yet supported\n",
      "To silence this warning, decorate the function with @tf.autograph.experimental.do_not_convert\n",
      "WARNING: AutoGraph could not transform <bound method ClassWeightedCategoricalCrossEntropy.result of <algomorphism.metrics.ClassWeightedCategoricalCrossEntropy object at 0x7f1e40af8400>> and will run it as-is.\n",
      "Cause: mangled names are not yet supported\n",
      "To silence this warning, decorate the function with @tf.autograph.experimental.do_not_convert\n",
      "train cost: 0.4207007586956024\n",
      "train score: 0.8696427941322327\n",
      "val cost: 0.4444376230239868\n",
      "val score: 0.8639898300170898\n",
      "Epoch 2 finished\n",
      "train cost: 0.31765326857566833\n",
      "train score: 0.9036177396774292\n",
      "val cost: 0.3455011248588562\n",
      "val score: 0.8944606184959412\n",
      "Epoch 3 finished\n",
      "train cost: 0.24333733320236206\n",
      "train score: 0.9222343564033508\n",
      "val cost: 0.27056100964546204\n",
      "val score: 0.9132367372512817\n",
      "Epoch 4 finished\n",
      "train cost: 0.19511660933494568\n",
      "train score: 0.9395580291748047\n",
      "val cost: 0.21526287496089935\n",
      "val score: 0.9330074191093445\n",
      "Epoch 5 finished\n",
      "train cost: 0.1612291932106018\n",
      "train score: 0.9492524266242981\n",
      "val cost: 0.17809173464775085\n",
      "val score: 0.944186806678772\n",
      "Epoch 6 finished\n",
      "train cost: 0.13572600483894348\n",
      "train score: 0.9560131430625916\n",
      "val cost: 0.147627055644989\n",
      "val score: 0.952095091342926\n",
      "Epoch 7 finished\n",
      "train cost: 0.1208919957280159\n",
      "train score: 0.9592535495758057\n",
      "val cost: 0.13550511002540588\n",
      "val score: 0.9557377099990845\n",
      "Epoch 8 finished\n",
      "train cost: 0.11195839941501617\n",
      "train score: 0.9622603058815002\n",
      "val cost: 0.12645411491394043\n",
      "val score: 0.9590926766395569\n",
      "Epoch 9 finished\n",
      "train cost: 0.10567165911197662\n",
      "train score: 0.9638421535491943\n",
      "val cost: 0.12012240290641785\n",
      "val score: 0.9602669477462769\n",
      "Epoch 10 finished\n",
      "train cost: 0.09866794943809509\n",
      "train score: 0.966690182685852\n",
      "val cost: 0.11495263129472733\n",
      "val score: 0.9624836444854736\n",
      "Epoch 11 finished\n",
      "train cost: 0.09241607040166855\n",
      "train score: 0.9693171381950378\n",
      "val cost: 0.10782240331172943\n",
      "val score: 0.9654672741889954\n",
      "Epoch 12 finished\n",
      "train cost: 0.08926256746053696\n",
      "train score: 0.9701428413391113\n",
      "val cost: 0.10636165738105774\n",
      "val score: 0.9661981463432312\n",
      "Epoch 13 finished\n",
      "train cost: 0.0880977213382721\n",
      "train score: 0.970497727394104\n",
      "val cost: 0.10754524171352386\n",
      "val score: 0.9662580490112305\n",
      "Epoch 14 finished\n",
      "train cost: 0.08475149422883987\n",
      "train score: 0.9719154834747314\n",
      "val cost: 0.10440762341022491\n",
      "val score: 0.9677318930625916\n",
      "Epoch 15 finished\n",
      "train cost: 0.08141613751649857\n",
      "train score: 0.9728963375091553\n",
      "val cost: 0.10199911147356033\n",
      "val score: 0.9687862992286682\n",
      "Epoch 16 finished\n",
      "train cost: 0.077951580286026\n",
      "train score: 0.9743140935897827\n",
      "val cost: 0.09863828867673874\n",
      "val score: 0.9698767066001892\n",
      "Epoch 17 finished\n",
      "train cost: 0.07555393874645233\n",
      "train score: 0.9751924872398376\n",
      "val cost: 0.09728654474020004\n",
      "val score: 0.9704757928848267\n",
      "Epoch 18 finished\n",
      "train cost: 0.08019920438528061\n",
      "train score: 0.9728624224662781\n",
      "val cost: 0.10330437868833542\n",
      "val score: 0.9675881266593933\n",
      "Epoch 19 finished\n",
      "train cost: 0.08071020990610123\n",
      "train score: 0.9732405543327332\n",
      "val cost: 0.10381516069173813\n",
      "val score: 0.9685107469558716\n",
      "Epoch 20 finished\n",
      "train cost: 0.08731134980916977\n",
      "train score: 0.9716676473617554\n",
      "val cost: 0.1135471761226654\n",
      "val score: 0.967300534248352\n",
      "Epoch 21 finished\n",
      "train cost: 0.07923483103513718\n",
      "train score: 0.9730069041252136\n",
      "val cost: 0.10353811830282211\n",
      "val score: 0.9671807289123535\n",
      "Stop Training\n"
     ]
    }
   ],
   "source": [
    "rnn.train(pos_rnn, 50, print_types=['train', 'val'])"
   ],
   "metadata": {
    "collapsed": false,
    "pycharm": {
     "name": "#%%\n"
    }
   }
  },
  {
   "cell_type": "markdown",
   "source": [
    "## POS Tagging examples"
   ],
   "metadata": {
    "collapsed": false,
    "pycharm": {
     "name": "#%% md\n"
    }
   }
  },
  {
   "cell_type": "code",
   "execution_count": 16,
   "outputs": [],
   "source": [
    "def ff_tagger(sentence, ff_model, pos_ff_dataset_obj:PosFfDataset):\n",
    "    window_embedings, listtag = pos_ff_dataset_obj.window_word2vec_sentece(sentence)\n",
    "    pr = ff_model([window_embedings])[0]\n",
    "    pr = pos_ff_dataset_obj.get_numpy2tag(pr,onehot=True)\n",
    "    not_none_cnt = 0\n",
    "    for i in range(len(listtag)):\n",
    "      if listtag[i][1] != None:\n",
    "        print((listtag[i][0], pr[not_none_cnt]))\n",
    "        not_none_cnt += 1\n",
    "    print()\n",
    "\n",
    "def rnn_tagger(sentence, rnn_model, pos_rnn_dataset_obj):\n",
    "  encode = pos_rnn_dataset_obj.sents_encode([sentence])\n",
    "  encode = tf.cast(encode, tf.int32)\n",
    "  pr = rnn_model.call([encode])[0].numpy().argmax(axis=-1) + 1\n",
    "  pr = pos_rnn_dataset_obj.tag_decode(pr)\n",
    "  for x, y in zip(sentence.split(), pr[0].split()):\n",
    "    print((x, y))\n",
    "  print()"
   ],
   "metadata": {
    "collapsed": false,
    "pycharm": {
     "name": "#%%\n"
    }
   }
  },
  {
   "cell_type": "code",
   "execution_count": 17,
   "outputs": [
    {
     "name": "stdout",
     "output_type": "stream",
     "text": [
      "FeedForward POS Tagger \n",
      "======================\n",
      "('we', 'VERB')\n",
      "('create', 'NOUN')\n",
      "('a', 'VERB')\n",
      "('pos', 'VERB')\n",
      "('tagger', 'PUNCT')\n",
      "('and', 'PUNCT')\n",
      "('we', 'PRON')\n",
      "('are', 'AUX')\n",
      "('very', 'AUX')\n",
      "('happy', 'ADJ')\n",
      "('for', 'VERB')\n",
      "('that', 'ADP')\n",
      "('!', 'PUNCT')\n",
      "\n",
      "('hello', 'PUNCT')\n",
      "('there', 'PUNCT')\n",
      "('!', 'PUNCT')\n",
      "('!', 'PUNCT')\n",
      "\n",
      "('how', 'VERB')\n",
      "('are', 'PRON')\n",
      "('you', 'PRON')\n",
      "('?', 'PRON')\n",
      "\n",
      "('aesthetic', 'ADJ')\n",
      "('appreciation', 'NOUN')\n",
      "('and', 'PUNCT')\n",
      "('spanish', 'PUNCT')\n",
      "('art', 'PUNCT')\n",
      "(':', 'PUNCT')\n",
      "\n",
      "RNN POS Tagger \n",
      "==============\n",
      "('we', 'PRON')\n",
      "('create', 'VERB')\n",
      "('a', 'DET')\n",
      "('pos', 'ADJ')\n",
      "('tagger', 'NOUN')\n",
      "('and', 'CCONJ')\n",
      "('we', 'PRON')\n",
      "('are', 'AUX')\n",
      "('very', 'ADV')\n",
      "('happy', 'ADJ')\n",
      "('for', 'ADP')\n",
      "('that', 'PRON')\n",
      "('!', 'PUNCT')\n",
      "\n",
      "('hello', 'INTJ')\n",
      "('there', 'PRON')\n",
      "('!', 'PUNCT')\n",
      "('!', 'PUNCT')\n",
      "\n",
      "('how', 'ADV')\n",
      "('are', 'AUX')\n",
      "('you', 'PRON')\n",
      "('?', 'PUNCT')\n",
      "\n",
      "('aesthetic', 'ADJ')\n",
      "('appreciation', 'NOUN')\n",
      "('and', 'CCONJ')\n",
      "('spanish', 'ADJ')\n",
      "('art', 'NOUN')\n",
      "(':', 'PUNCT')\n",
      "\n"
     ]
    }
   ],
   "source": [
    "print('FeedForward POS Tagger \\n{}'.format('='*22))\n",
    "\n",
    "ff_tagger('we create a pos tagger and we are very happy for that !', ff, pos_ff)\n",
    "ff_tagger('hello there ! !', ff, pos_ff)\n",
    "ff_tagger('how are you ?', ff, pos_ff)\n",
    "ff_tagger('aesthetic appreciation and spanish art :', ff, pos_ff)\n",
    "\n",
    "print('RNN POS Tagger \\n{}'.format('='*14))\n",
    "\n",
    "rnn_tagger('we create a pos tagger and we are very happy for that !', rnn, pos_rnn)\n",
    "rnn_tagger('hello there ! !', rnn, pos_rnn)\n",
    "rnn_tagger('how are you ?', rnn, pos_rnn)\n",
    "rnn_tagger('aesthetic appreciation and spanish art :', rnn, pos_rnn)"
   ],
   "metadata": {
    "collapsed": false,
    "pycharm": {
     "name": "#%%\n"
    }
   }
  },
  {
   "cell_type": "markdown",
   "source": [
    "## Results Visualization"
   ],
   "metadata": {
    "collapsed": false,
    "pycharm": {
     "name": "#%% md\n"
    }
   }
  },
  {
   "cell_type": "markdown",
   "source": [
    "Create precision recall curve object"
   ],
   "metadata": {
    "collapsed": false,
    "pycharm": {
     "name": "#%% md\n"
    }
   }
  },
  {
   "cell_type": "code",
   "execution_count": 18,
   "outputs": [],
   "source": [
    "class PrecisionRecallCurve(tf.keras.metrics.Metric):\n",
    "  def __init__(self,thresholds=None):\n",
    "    super(PrecisionRecallCurve, self).__init__(name='prc')\n",
    "    self.__precision = tf.keras.metrics.Precision(thresholds=thresholds)\n",
    "    self.__recall = tf.keras.metrics.Recall(thresholds=thresholds)\n",
    "\n",
    "  def update_state(self, y_true, y_pred):\n",
    "    self.__precision.update_state(y_true, y_pred)\n",
    "    self.__recall.update_state(y_true, y_pred)\n",
    "\n",
    "  def result(self):\n",
    "    precision = self.__precision.result().numpy()\n",
    "    recall = self.__recall.result().numpy()\n",
    "\n",
    "    precision = self.__fix_precision(precision)\n",
    "    auc = np.sum((precision[1:] - precision[:-1])*recall[:-1])\n",
    "    return auc\n",
    "\n",
    "  def get_precision(self):\n",
    "    precision = self.__precision.result().numpy()\n",
    "    precision = self.__fix_precision(precision)\n",
    "    return precision\n",
    "\n",
    "  def get_recall(self):\n",
    "    return self.__recall.result().numpy()\n",
    "\n",
    "  def reset_states(self):\n",
    "    self.__precision.reset_state()\n",
    "    self.__recall.reset_state()\n",
    "\n",
    "  def __fix_precision(self, precision):\n",
    "    argmax_precision = precision.argmax()\n",
    "    precision[argmax_precision:] = 1.0\n",
    "    return precision"
   ],
   "metadata": {
    "collapsed": false,
    "pycharm": {
     "name": "#%%\n"
    }
   }
  },
  {
   "cell_type": "markdown",
   "source": [
    "Plot history (Cost & Score per epoch) by nn models."
   ],
   "metadata": {
    "collapsed": false
   }
  },
  {
   "cell_type": "code",
   "execution_count": 19,
   "outputs": [
    {
     "data": {
      "text/plain": "<Figure size 1152x576 with 2 Axes>",
      "image/png": "[encoded data removed]"
     },
     "metadata": {
      "needs_background": "light"
     },
     "output_type": "display_data"
    }
   ],
   "source": [
    "multiple_models_history_figure([rnn, ff])"
   ],
   "metadata": {
    "collapsed": false,
    "pycharm": {
     "name": "#%%\n"
    }
   }
  },
  {
   "cell_type": "markdown",
   "source": [
    "Plot precision recall curve and print AUC by nn models."
   ],
   "metadata": {
    "collapsed": false
   }
  },
  {
   "cell_type": "code",
   "execution_count": 20,
   "outputs": [
    {
     "name": "stdout",
     "output_type": "stream",
     "text": [
      "WARNING:tensorflow:AutoGraph could not transform <bound method PrecisionRecallCurve.update_state of <__main__.PrecisionRecallCurve object at 0x7f1e40c5a310>> and will run it as-is.\n",
      "Cause: mangled names are not yet supported\n",
      "To silence this warning, decorate the function with @tf.autograph.experimental.do_not_convert\n",
      "WARNING: AutoGraph could not transform <bound method PrecisionRecallCurve.update_state of <__main__.PrecisionRecallCurve object at 0x7f1e40c5a310>> and will run it as-is.\n",
      "Cause: mangled names are not yet supported\n",
      "To silence this warning, decorate the function with @tf.autograph.experimental.do_not_convert\n",
      "WARNING:tensorflow:AutoGraph could not transform <bound method PrecisionRecallCurve.result of <__main__.PrecisionRecallCurve object at 0x7f1e40c5a310>> and will run it as-is.\n",
      "Cause: mangled names are not yet supported\n",
      "To silence this warning, decorate the function with @tf.autograph.experimental.do_not_convert\n",
      "WARNING: AutoGraph could not transform <bound method PrecisionRecallCurve.result of <__main__.PrecisionRecallCurve object at 0x7f1e40c5a310>> and will run it as-is.\n",
      "Cause: mangled names are not yet supported\n",
      "To silence this warning, decorate the function with @tf.autograph.experimental.do_not_convert\n"
     ]
    },
    {
     "data": {
      "text/plain": "Text(0.5, 1.0, 'Test auc per model')"
     },
     "execution_count": 20,
     "metadata": {},
     "output_type": "execute_result"
    },
    {
     "data": {
      "text/plain": "<Figure size 576x576 with 1 Axes>",
      "image/png": "[encoded data removed]"
     },
     "metadata": {
      "needs_background": "light"
     },
     "output_type": "display_data"
    }
   ],
   "source": [
    "plt.figure(figsize=(8,8))\n",
    "label_base = r'$model:{}, \\; auc:{:.2f}$'\n",
    "prc = PrecisionRecallCurve(np.linspace(0,1,100).tolist())\n",
    "\n",
    "for x, y_true in pos_ff.test:\n",
    "  y_pred = ff([x])[0]\n",
    "  prc.update_state(y_true, y_pred)\n",
    "auc = prc.result()\n",
    "precision = prc.get_precision()\n",
    "recall = prc.get_recall()\n",
    "plt.plot(precision, recall,'--', label=label_base.format(ff.name, auc))\n",
    "\n",
    "prc.reset_states()\n",
    "\n",
    "for x, y_true in pos_rnn.test:\n",
    "  y_pred = rnn([x])[0]\n",
    "  prc.update_state(y_true, y_pred)\n",
    "auc = prc.result()\n",
    "precision = prc.get_precision()\n",
    "recall = prc.get_recall()\n",
    "plt.plot(precision, recall, label=label_base.format(rnn.name, auc))\n",
    "\n",
    "plt.legend(fontsize=16, loc='lower left')\n",
    "plt.xlabel(r\"$precision$\", fontsize=12)\n",
    "plt.ylabel(r\"$recall$\", fontsize=12)\n",
    "plt.title(\"Test auc per model\")"
   ],
   "metadata": {
    "collapsed": false,
    "pycharm": {
     "name": "#%%\n"
    }
   }
  },
  {
   "cell_type": "markdown",
   "source": [
    "## References\n",
    "- UD_English-GUM Dataset: [https://github.com/UniversalDependencies/UD_English-GUM](https://github.com/UniversalDependencies/UD_English-GUM)\n",
    "- GloVe: [https://nlp.stanford.edu/projects/glove/](https://nlp.stanford.edu/projects/glove/)\n",
    "- Slided Window POS Tagger: [https://www.dlsi.ua.es/~mlf/docum/sanchezvillamil04p.pdf](https://www.dlsi.ua.es/~mlf/docum/sanchezvillamil04p.pdf)\n"
   ],
   "metadata": {
    "collapsed": false,
    "pycharm": {
     "name": "#%% md\n"
    }
   }
  }
 ],
 "metadata": {
  "kernelspec": {
   "display_name": "Python 3",
   "language": "python",
   "name": "python3"
  },
  "language_info": {
   "codemirror_mode": {
    "name": "ipython",
    "version": 2
   },
   "file_extension": ".py",
   "mimetype": "text/x-python",
   "name": "python",
   "nbconvert_exporter": "python",
   "pygments_lexer": "ipython2",
   "version": "2.7.6"
  }
 },
 "nbformat": 4,
 "nbformat_minor": 0
}