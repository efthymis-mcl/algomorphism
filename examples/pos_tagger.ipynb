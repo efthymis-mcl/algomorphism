{
 "cells": [
  {
   "cell_type": "markdown",
   "source": [
    "# Part of Speech Tagger (FeedForward & RNN comparison)\n",
    "In this notebook we train two Neural Networks for Part of Speech (POS) task. First we use unsupervised pretrained  word\n",
    "embeddings (vector representation of words) of GloVe-WiKi 50D and UD_English-GUM Dataset contained train, validation & test\n",
    "examples of sentences and POS tag per word. Second we preprocess the dataset using word embeddings using two types of\n",
    "preprocessing objects, the first for Slided Window FeedForward model and the second for RNN model.\n",
    "\n",
    "After the preprocessing, we train models using early stopping & normalized gradient clipping methods. We give examples of\n",
    "POS tagging on sentences.\n",
    "\n",
    "For visualizing the results we plot Cost (Categorical Cross Entropy) & Score (F1 score) curves per\n",
    "epoch and Recall/Precision curve printing the Area Under the Curve (AUC)."
   ],
   "metadata": {
    "collapsed": false,
    "pycharm": {
     "name": "#%% md\n"
    }
   }
  },
  {
   "cell_type": "markdown",
   "source": [
    "## Additional Packages & Dataset downloading"
   ],
   "metadata": {
    "collapsed": false
   }
  },
  {
   "cell_type": "code",
   "execution_count": 1,
   "outputs": [],
   "source": [
    "!pip install conllu\n",
    "!pip install tensorflow_datasets\n",
    "!pip install tensorflow_addons\n",
    "!pip install gensim"
   ],
   "metadata": {
    "collapsed": false,
    "pycharm": {
     "name": "#%%\n"
    }
   }
  },
  {
   "cell_type": "code",
   "execution_count": 2,
   "outputs": [],
   "source": [
    "!wget https://github.com/UniversalDependencies/UD_English-GUM/archive/master.zip\n",
    "!unzip master.zip"
   ],
   "metadata": {
    "collapsed": false,
    "pycharm": {
     "name": "#%%\n"
    }
   }
  },
  {
   "cell_type": "code",
   "execution_count": 3,
   "outputs": [],
   "source": [
    "from algomorphism.base import LossBase, BaseNeuralNetwork, MetricBase\n",
    "from algomorphism.figures.nn import multiple_models_history_figure\n",
    "from algomorphism.losses import ClassWeightedCategoricalCrossEntropy as ClassWeightedCategoricalCrossEntropyLoss\n",
    "from algomorphism.metrics import ClassWeightedCategoricalCrossEntropy as ClassWeightedCategoricalCrossEntropyMetric\n",
    "\n",
    "import tensorflow as tf\n",
    "import tensorflow_addons as tfa\n",
    "import numpy as np\n",
    "from sklearn.preprocessing import LabelBinarizer\n",
    "from tensorflow.keras.layers import Dense, Dropout, PReLU, BatchNormalization, Input\n",
    "from tensorflow.keras.layers import Embedding, TimeDistributed, LSTM, Bidirectional\n",
    "from tensorflow.keras.preprocessing.sequence import pad_sequences\n",
    "\n",
    "from conllu import parse_incr\n",
    "import gensim.downloader as api\n",
    "import tensorflow_datasets as tfds\n",
    "import matplotlib.pyplot as plt"
   ],
   "metadata": {
    "collapsed": false,
    "pycharm": {
     "name": "#%%\n"
    }
   }
  },
  {
   "cell_type": "code",
   "execution_count": 4,
   "outputs": [
    {
     "name": "stdout",
     "output_type": "stream",
     "text": [
      "PhysicalDevice(name='/physical_device:GPU:0', device_type='GPU')\n"
     ]
    },
    {
     "name": "stderr",
     "output_type": "stream",
     "text": [
      "2021-10-26 09:42:07.589399: I tensorflow/stream_executor/cuda/cuda_gpu_executor.cc:937] successful NUMA node read from SysFS had negative value (-1), but there must be at least one NUMA node, so returning NUMA node zero\n",
      "2021-10-26 09:42:07.598746: I tensorflow/stream_executor/cuda/cuda_gpu_executor.cc:937] successful NUMA node read from SysFS had negative value (-1), but there must be at least one NUMA node, so returning NUMA node zero\n",
      "2021-10-26 09:42:07.599370: I tensorflow/stream_executor/cuda/cuda_gpu_executor.cc:937] successful NUMA node read from SysFS had negative value (-1), but there must be at least one NUMA node, so returning NUMA node zero\n"
     ]
    }
   ],
   "source": [
    "for gpu in tf.config.list_physical_devices('GPU'):\n",
    "    print(gpu)\n",
    "    tf.config.experimental.set_memory_growth(gpu, True)\n"
   ],
   "metadata": {
    "collapsed": false,
    "pycharm": {
     "name": "#%%\n"
    }
   }
  },
  {
   "cell_type": "markdown",
   "source": [
    "## Preprocessing\n"
   ],
   "metadata": {
    "collapsed": false
   }
  },
  {
   "cell_type": "markdown",
   "source": [
    "### Load GloVe word embeddings model"
   ],
   "metadata": {
    "collapsed": false
   }
  },
  {
   "cell_type": "code",
   "execution_count": 5,
   "outputs": [],
   "source": [
    "word2vec_model = api.load('glove-wiki-gigaword-50')\n"
   ],
   "metadata": {
    "collapsed": false,
    "pycharm": {
     "name": "#%%\n"
    }
   }
  },
  {
   "cell_type": "markdown",
   "source": [
    "### Dataset objects for preprocessing and getting dataset examples"
   ],
   "metadata": {
    "collapsed": false
   }
  },
  {
   "cell_type": "code",
   "execution_count": 6,
   "outputs": [],
   "source": [
    "class PosFfDataset(object):\n",
    "  \"\"\"\n",
    "  POS Dataset object for FeedForward model\n",
    "  \"\"\"\n",
    "  def __init__(self, word2vec_model, window=1):\n",
    "    self.word2vec_model = word2vec_model\n",
    "    self.__w = window\n",
    "\n",
    "  def set_data_from_files(self, train_path, val_path, test_path):\n",
    "    file_trn = open(train_path)\n",
    "    self.__x_train, tags_train, self.__vocab = self.__window_word2vec_and_tags_training(file_trn)\n",
    "\n",
    "    file_val = open(val_path)\n",
    "    self.__x_val, tags_val = self.__window_word2vec_and_tags_val_test(file_val)\n",
    "\n",
    "    file_test = open(test_path)\n",
    "    self.__x_test, tags_test = self.__window_word2vec_and_tags_val_test(file_test)\n",
    "\n",
    "\n",
    "    self.__lb = LabelBinarizer()\n",
    "    tag_classes = list(set(tags_train))\n",
    "    self.__lb.fit(tag_classes)\n",
    "\n",
    "    self.__y_train = self.__lb.transform(tags_train)\n",
    "    self.__y_val = self.__lb.transform(tags_val)\n",
    "    self.__y_test = self.__lb.transform(tags_test)\n",
    "\n",
    "    self.train = tf.data.Dataset.from_tensor_slices((\n",
    "        tf.cast(self.__x_train, tf.float32),\n",
    "        tf.cast(self.__y_train, tf.int64)\n",
    "    )).batch(128)\n",
    "\n",
    "    self.val = tf.data.Dataset.from_tensor_slices((\n",
    "        tf.cast(self.__x_val, tf.float32),\n",
    "        tf.cast(self.__y_val, tf.int64)\n",
    "    )).batch(128)\n",
    "\n",
    "    self.test = tf.data.Dataset.from_tensor_slices((\n",
    "        tf.cast(self.__x_test, tf.float32),\n",
    "        tf.cast(self.__y_test, tf.int64)\n",
    "    )).batch(128)\n",
    "\n",
    "  def __plus_operator_sliding_window(self, words2vecs):\n",
    "    if self.__w == 1:\n",
    "      return words2vecs\n",
    "\n",
    "    words2vecs = np.array(words2vecs)\n",
    "    N = words2vecs.shape[0]\n",
    "    words2vecs = np.concatenate((np.zeros(((self.__w-1)//2, words2vecs.shape[1])),\n",
    "                                words2vecs,\n",
    "                                np.zeros(((self.__w-1)//2, words2vecs.shape[1]))\n",
    "                                ),axis=0)\n",
    "    sent_embedings = []\n",
    "    for i in range(0, N):\n",
    "      sent_embedings.append(\n",
    "          words2vecs[i:i+self.__w].sum(axis=0)\n",
    "      )\n",
    "    return sent_embedings\n",
    "\n",
    "  # this is useful for preprocess train, val, test data\n",
    "  def __window_word2vec_and_tags_training(self, file):\n",
    "    window_embedings = []\n",
    "    tags = []\n",
    "    vocab = set()\n",
    "    for sent in parse_incr(file):\n",
    "      words2vecs = []\n",
    "      for word in sent:\n",
    "        try:\n",
    "          words2vecs.append(self.word2vec_model[word['form']])\n",
    "          tags.append(word['upostag'])\n",
    "          vocab.add(word['form'])\n",
    "        except Exception as e:\n",
    "          pass\n",
    "\n",
    "      if len(words2vecs) != 0:\n",
    "        window_embedings+= self.__plus_operator_sliding_window(words2vecs)\n",
    "\n",
    "    window_embedings = np.array(window_embedings)\n",
    "    return window_embedings, tags, vocab\n",
    "\n",
    "  def __window_word2vec_and_tags_val_test(self, file):\n",
    "    window_embedings = []\n",
    "    tags = []\n",
    "    for sent in parse_incr(file):\n",
    "      words2vecs = []\n",
    "      for word in sent:\n",
    "        try:\n",
    "          if word['form'] in self.__vocab:\n",
    "            words2vecs.append(self.word2vec_model[word['form']])\n",
    "          else:\n",
    "            var = self.word2vec_model[word['form']]\n",
    "            words2vecs.append(np.zeros(self.word2vec_model.vector_size,))\n",
    "          tags.append(word['upostag'])\n",
    "        except Exception as e:\n",
    "          pass\n",
    "\n",
    "      if len(words2vecs) != 0:\n",
    "        window_embedings+= self.__plus_operator_sliding_window(words2vecs)\n",
    "\n",
    "    window_embedings = np.array(window_embedings)\n",
    "    return window_embedings, tags\n",
    "\n",
    "  def window_word2vec_sentece(self,sentence):\n",
    "    words2vecs = []\n",
    "    listtag = []\n",
    "    for word in sentence.split():\n",
    "      try:\n",
    "        if word in self.__vocab:\n",
    "          words2vecs.append(self.word2vec_model[word])\n",
    "        else:\n",
    "          words2vecs.append(np.zeros(self.word2vec_model.vector_size,))\n",
    "        listtag.append([word, ''])\n",
    "      except Exception as e:\n",
    "        listtag.append([word, None])\n",
    "\n",
    "    if len(words2vecs) != 0:\n",
    "      sent_embedings = self.__plus_operator_sliding_window(words2vecs)\n",
    "    else:\n",
    "      return None, listtag\n",
    "\n",
    "    sent_embedings = np.array(sent_embedings)\n",
    "    return sent_embedings, listtag\n",
    "\n",
    "  def get_numpy_dataset(self):\n",
    "    return self.__x_train, self.__y_train, self.__x_val, self.__y_val, self.__x_test, self.__y_test\n",
    "\n",
    "  def get_numpy2tag(self, y_, onehot=False):\n",
    "    if onehot:\n",
    "      y_ = np.array(y_).argmax(axis=1)\n",
    "    return self.__lb.classes_[y_]\n",
    "\n",
    "  def get_tags_names(self):\n",
    "    return self.__lb.classes_"
   ],
   "metadata": {
    "collapsed": false,
    "pycharm": {
     "name": "#%%\n"
    }
   }
  },
  {
   "cell_type": "code",
   "execution_count": 7,
   "outputs": [],
   "source": [
    "class PosRnnDataset(object):\n",
    "  \"\"\"\n",
    "  POS Dataset object for RNN model\n",
    "  \"\"\"\n",
    "  def __init__(self, word2vec_model):\n",
    "    self.word2vec_model = word2vec_model\n",
    "\n",
    "  def get_numpy_dataset(self):\n",
    "    return self.__x_train, self.__y_train, self.__x_val, self.__y_val, self.__x_test, self.__y_test\n",
    "\n",
    "  def __pad_sequence(self, sequence_sent, sequence_tag):\n",
    "    x = pad_sequences(sequence_sent, maxlen=self.__max_length_sent, padding='post', value=self.sents_encode(['__PAD__'])[0][0])\n",
    "    sequence_tag = pad_sequences(sequence_tag, maxlen=self.__max_length_sent, padding='post', value=self.tags_encode(['__PAD__'])[0][0])\n",
    "    y = np.array([self.__lb.transform([int(tag) for tag in list(sequence)]) for sequence in list(sequence_tag)])\n",
    "    return x, y\n",
    "\n",
    "  def tag_decode(self, seqquence_tag):\n",
    "    tag_dec = []\n",
    "    for seq in seqquence_tag:\n",
    "      tag_dec.append(self.__tags_encoder.decode(seq))\n",
    "    return tag_dec\n",
    "\n",
    "  def sent_decode(self, sequence_sent):\n",
    "    sents_dec = self.__text_encoder.sequences_to_texts(sequence_sent)\n",
    "    return sents_dec\n",
    "\n",
    "  def tags_encode(self, tags):\n",
    "    tag_enc = []\n",
    "    for tag in tags:\n",
    "      tag_enc.append(self.__tags_encoder.encode(tag))\n",
    "    return tag_enc\n",
    "\n",
    "  def sents_encode(self, sents):\n",
    "    sents_enc = self.__text_encoder.texts_to_sequences(sents)\n",
    "    return sents_enc\n",
    "\n",
    "  def __set_up_data_from_train_file(self, file_path):\n",
    "    vocab = set()\n",
    "    sents = []\n",
    "    tags = []\n",
    "    tags_set = set()\n",
    "    file_obj = open(file_path)\n",
    "    max_length_sent = 0\n",
    "    for sent in parse_incr(file_obj):\n",
    "      tags.append('')\n",
    "      sents.append('')\n",
    "      if len(sent) > max_length_sent:\n",
    "        max_length_sent = len(sent)\n",
    "      for w in sent:\n",
    "        try:\n",
    "          # check if word exist on word emb\n",
    "          word = str.lower(w['form'])\n",
    "          var = self.word2vec_model[word]\n",
    "          sents[-1]+= ' '+str(word)\n",
    "          vocab.add(str(word))\n",
    "        except Exception as e:\n",
    "          # remove the word that doesnt contain in word2vec_model\n",
    "          sents[-1] += ' '+'__OOV__'\n",
    "          vocab.add('__OOV__')\n",
    "\n",
    "        tags[-1] +=  ' '+w['upostag']\n",
    "        tags_set.add(w['upostag'])\n",
    "\n",
    "\n",
    "    self.__max_length_sent = max_length_sent\n",
    "    tags_set.add('__PAD__')\n",
    "    vocab.add('__PAD__')\n",
    "\n",
    "    self.__vocab_size = len(vocab)+1\n",
    "    self.__tags_size = len(tags_set)\n",
    "\n",
    "    # we experimented with two tf Tokenizers(encoders or more simply coders) tf.keras and tfds Tokenizer(for big corpus)\n",
    "    self.__text_encoder = tf.keras.preprocessing.text.Tokenizer(self.__vocab_size, oov_token='__UNK__', filters='', lower=False)\n",
    "    self.__text_encoder.fit_on_texts([' '.join(list(vocab))])\n",
    "    self.__tags_encoder = tfds.deprecated.text.TokenTextEncoder(\n",
    "      list(tags_set),\n",
    "      tokenizer=tfds.deprecated.text.Tokenizer(\n",
    "        alphanum_only=True\n",
    "      )\n",
    "    )\n",
    "\n",
    "    embedding_dim = self.word2vec_model.vector_size\n",
    "    embedding_matrix = np.zeros((self.__vocab_size, embedding_dim))\n",
    "    for word in vocab:\n",
    "      index = self.sents_encode([word])[0][0]\n",
    "      try:\n",
    "        embedding_matrix[index] = self.word2vec_model[word]\n",
    "      except:\n",
    "        pass\n",
    "\n",
    "    self.__embedding_matrix = embedding_matrix\n",
    "    self.__lb = LabelBinarizer()\n",
    "\n",
    "    tags_code = [int(tag) for tag in self.__tags_encoder.encode(' '.join(list(tags_set)))]\n",
    "    self.__lb.fit(tags_code)\n",
    "    sequence_sent = self.sents_encode(sents)\n",
    "\n",
    "\n",
    "    sequence_tag = self.tags_encode(tags)\n",
    "    x_train, y_train = self.__pad_sequence(sequence_sent, sequence_tag)\n",
    "    return x_train, y_train\n",
    "\n",
    "\n",
    "  def __set_up_data_from_val_or_test_file(self, file_path):\n",
    "    sents = []\n",
    "    tags = []\n",
    "    file_obj = open(file_path)\n",
    "    for sent in parse_incr(file_obj):\n",
    "      tags.append('')\n",
    "      sents.append('')\n",
    "      for w in sent:\n",
    "        try:\n",
    "          word = str.lower(w['form'])\n",
    "          var = self.word2vec_model[word]\n",
    "          sents[-1]+= ' '+word\n",
    "        except Exception as e:\n",
    "          # remove the word that doesnt contain in word2vec_model\n",
    "          sents[-1] += ' '+'__OOV__'\n",
    "        tags[-1] +=  ' '+w['upostag']\n",
    "\n",
    "    sequence_sent = self.sents_encode(sents)\n",
    "    sequence_tag = self.tags_encode(tags)\n",
    "    x, y = self.__pad_sequence(sequence_sent, sequence_tag)\n",
    "    return x, y\n",
    "\n",
    "  def set_data_from_files(self,train_path, val_path, test_path):\n",
    "\n",
    "    self.__x_train, self.__y_train = self.__set_up_data_from_train_file(train_path)\n",
    "\n",
    "    self.train = tf.data.Dataset.from_tensor_slices((\n",
    "        tf.cast(self.__x_train, tf.int32),\n",
    "        tf.cast(self.__y_train, tf.float32)\n",
    "    )).batch(128)\n",
    "\n",
    "    self.__x_val, self.__y_val = self.__set_up_data_from_val_or_test_file(val_path)\n",
    "    self.__x_test, self.__y_test = self.__set_up_data_from_val_or_test_file(test_path)\n",
    "\n",
    "    self.val = tf.data.Dataset.from_tensor_slices((\n",
    "        tf.cast(self.__x_val, tf.int32),\n",
    "        tf.cast(self.__y_val, tf.float32)\n",
    "    )).batch(128)\n",
    "\n",
    "    self.test = tf.data.Dataset.from_tensor_slices((\n",
    "        tf.cast(self.__x_test, tf.int32),\n",
    "        tf.cast(self.__y_test, tf.float32)\n",
    "    )).batch(128)\n",
    "\n",
    "  def get_max_length_sent(self):\n",
    "    return self.__max_length_sent\n",
    "\n",
    "  def get_vocab_size(self):\n",
    "    return self.__vocab_size\n",
    "\n",
    "  def get_tags_size(self):\n",
    "    return self.__tags_size\n",
    "\n",
    "  def get_embedding_matrix(self):\n",
    "    return self.__embedding_matrix"
   ],
   "metadata": {
    "collapsed": false,
    "pycharm": {
     "name": "#%%\n"
    }
   }
  },
  {
   "cell_type": "markdown",
   "source": [
    "## Neural Network Models"
   ],
   "metadata": {
    "collapsed": false,
    "pycharm": {
     "name": "#%% md\n"
    }
   }
  },
  {
   "cell_type": "markdown",
   "source": [
    "### FeedForward"
   ],
   "metadata": {
    "collapsed": false,
    "pycharm": {
     "name": "#%% md\n"
    }
   }
  },
  {
   "cell_type": "code",
   "execution_count": 8,
   "outputs": [],
   "source": [
    "class FeedForward(tf.keras.Model, BaseNeuralNetwork):\n",
    "  def __init__(self, dataset, x_dim, n_class, learning_rate=1e-4, clip_norm=0.0, early_stop_vars=None):\n",
    "    tf.keras.Model.__init__(self, name='ff')\n",
    "    status = [\n",
    "      [0],\n",
    "      [1, 2]\n",
    "    ]\n",
    "\n",
    "    self.score_mtr = MetricBase(self,\n",
    "                                [tfa.metrics.F1Score(n_class, average='micro')],\n",
    "                                status,\n",
    "                                [0]\n",
    "                              )\n",
    "\n",
    "    self.cost_mtr = MetricBase(self,\n",
    "                                [tf.keras.metrics.CategoricalCrossentropy()],\n",
    "                                status,\n",
    "                                [0],\n",
    "                                1\n",
    "                              )\n",
    "\n",
    "    self.cost_loss = LossBase(self,\n",
    "                              [tf.keras.losses.CategoricalCrossentropy()],\n",
    "                              status,\n",
    "                              [0]\n",
    "                            )\n",
    "\n",
    "    BaseNeuralNetwork.__init__(self, status, dataset=dataset, learning_rate=learning_rate,\n",
    "                               clip_norm=clip_norm, early_stop_vars=early_stop_vars)\n",
    "\n",
    "    self.n_class = n_class\n",
    "    self.x_dim = x_dim\n",
    "\n",
    "    self.Input = Input(self.x_dim)\n",
    "\n",
    "    self.dense1 = Dense(128, name='dense1')\n",
    "    self.batchnorm1 = BatchNormalization(name='batchnorm1')\n",
    "    self.prelu1 =  PReLU(name='prelu1')\n",
    "    self.drop1 = Dropout(0.25, name='drop1')\n",
    "\n",
    "    self.dense2 = Dense(256, name='dense2')\n",
    "    self.batchnorm2 = BatchNormalization(name='batchnorm2')\n",
    "    self.prelu2 =  PReLU(name='prelu2')\n",
    "    self.drop2 = Dropout(0.3, name='drop2')\n",
    "\n",
    "    self.dense3 = Dense(512, name='dense3')\n",
    "    self.batchnorm3 = BatchNormalization(name='batchnorm3')\n",
    "    self.prelu3 =  PReLU(name='prelu3')\n",
    "    self.drop3 = Dropout(0.35, name='drop3')\n",
    "\n",
    "    self.softmax = Dense(self.n_class, activation=\"softmax\",name='softmax')\n",
    "\n",
    "  def call(self, inputs):\n",
    "\n",
    "    x = self.dense1(inputs[0])\n",
    "    x = self.batchnorm1(x)\n",
    "    x = self.prelu1(x)\n",
    "    x = self.drop1(x)\n",
    "\n",
    "    x = self.dense2(x)\n",
    "    x = self.batchnorm2(x)\n",
    "    x = self.prelu2(x)\n",
    "    x = self.drop2(x)\n",
    "\n",
    "    x = self.dense3(x)\n",
    "    x = self.batchnorm3(x)\n",
    "    x = self.prelu3(x)\n",
    "    x = self.drop3(x)\n",
    "\n",
    "    y = self.softmax(x)\n",
    "\n",
    "    return tuple((y,))"
   ],
   "metadata": {
    "collapsed": false,
    "pycharm": {
     "name": "#%%\n"
    }
   }
  },
  {
   "cell_type": "markdown",
   "source": [
    "### RNN\n",
    "The data is unbalance, so we use Class Weighted Categorical Cross Entropy cost and F1 score."
   ],
   "metadata": {
    "collapsed": false
   }
  },
  {
   "cell_type": "code",
   "execution_count": 9,
   "outputs": [],
   "source": [
    "class RNN(tf.keras.Model, BaseNeuralNetwork):\n",
    "\n",
    "  def __init__(self, max_length_sent, vocab_size, n_class, embedding_matrix, dataset, class_weights, learning_rate=1e-4,\n",
    "               clip_norm=0.0, early_stop_vars=None):\n",
    "\n",
    "    tf.keras.Model.__init__(self, name='rnn')\n",
    "    status = [\n",
    "          [0],\n",
    "          [1, 2]\n",
    "        ]\n",
    "\n",
    "    self.score_mtr = MetricBase(self,\n",
    "                                [tfa.metrics.F1Score(n_class, average='micro')],\n",
    "                                status,\n",
    "                                [0]\n",
    "                              )\n",
    "\n",
    "    self.cost_mtr = MetricBase(self,\n",
    "                               [ClassWeightedCategoricalCrossEntropyMetric(class_weights)],\n",
    "                               status,\n",
    "                               [0],\n",
    "                               1\n",
    "                              )\n",
    "\n",
    "    self.cost_loss = LossBase(self,\n",
    "                              [ClassWeightedCategoricalCrossEntropyLoss(class_weights)],\n",
    "                              status,\n",
    "                              [0]\n",
    "                            )\n",
    "\n",
    "    BaseNeuralNetwork.__init__(self, status, dataset=dataset,\n",
    "                           learning_rate=learning_rate,\n",
    "                           clip_norm=clip_norm,\n",
    "                           early_stop_vars=early_stop_vars)\n",
    "\n",
    "    self.Input = Input((max_length_sent,))\n",
    "    self.embedding = Embedding(vocab_size, embedding_matrix.shape[1],\n",
    "      mask_zero=True, trainable=True, weights=[embedding_matrix])\n",
    "\n",
    "    self.lstm = LSTM(512, return_sequences=True, name='lstm', activation='tanh')\n",
    "    self.bidirectional = Bidirectional(self.lstm, name='bidirectional')\n",
    "    self.timedistributed = TimeDistributed(Dense(n_class, 'softmax'))\n",
    "\n",
    "  def call(self, inputs):\n",
    "    x = self.embedding(inputs[0])\n",
    "    x = self.bidirectional(x)\n",
    "    y = self.timedistributed(x)\n",
    "\n",
    "    return tuple((y,))"
   ],
   "metadata": {
    "collapsed": false,
    "pycharm": {
     "name": "#%%\n"
    }
   }
  },
  {
   "cell_type": "markdown",
   "source": [
    "## Load Examples"
   ],
   "metadata": {
    "collapsed": false,
    "pycharm": {
     "name": "#%% md\n"
    }
   }
  },
  {
   "cell_type": "code",
   "execution_count": null,
   "outputs": [],
   "source": [
    "pos_ff = PosFfDataset(word2vec_model, 3)\n",
    "pos_rnn = PosRnnDataset(word2vec_model)\n",
    "\n",
    "train_path = 'UD_English-GUM-master/en_gum-ud-train.conllu'\n",
    "test_path = 'UD_English-GUM-master/en_gum-ud-test.conllu'\n",
    "val_path = 'UD_English-GUM-master/en_gum-ud-dev.conllu'\n",
    "\n",
    "pos_ff.set_data_from_files(train_path, val_path, test_path)\n",
    "pos_rnn.set_data_from_files(train_path, val_path, test_path)"
   ],
   "metadata": {
    "collapsed": false,
    "pycharm": {
     "name": "#%%\n"
    }
   }
  },
  {
   "cell_type": "markdown",
   "source": [
    "## Early stopping vars and class weights computation\n",
    "We use patience early stopping method, that means we track val score and if it doesn't change for specific epochs\n",
    "(in our case 10) the training process stops. Also, we compute the class weights for rnn model."
   ],
   "metadata": {
    "collapsed": false
   }
  },
  {
   "cell_type": "code",
   "execution_count": 11,
   "outputs": [
    {
     "name": "stderr",
     "output_type": "stream",
     "text": [
      "2021-10-26 09:42:52.918649: W tensorflow/core/framework/cpu_allocator_impl.cc:80] Allocation of 85231872 exceeds 10% of free system memory.\n"
     ]
    }
   ],
   "source": [
    "early_stop_vars = {\n",
    "  'es_strategy':'patience',\n",
    "  'es_metric':'val_score',\n",
    "  'es_min_delta': 1e-3,\n",
    "  'es_patience': 10\n",
    "}\n",
    "\n",
    "y_train_rnn = pos_rnn.get_numpy_dataset()[1]\n",
    "y_train_rnn = y_train_rnn.reshape(y_train_rnn.shape[0]*y_train_rnn.shape[1], y_train_rnn.shape[2]).astype(np.float)\n",
    "class_weights = tf.reduce_mean(y_train_rnn, axis=0)\n",
    "class_weights = 1 - tf.cast(class_weights, tf.float32)"
   ],
   "metadata": {
    "collapsed": false,
    "pycharm": {
     "name": "#%%\n"
    }
   }
  },
  {
   "cell_type": "markdown",
   "source": [
    "## Initialize and train nn models"
   ],
   "metadata": {
    "collapsed": false,
    "pycharm": {
     "name": "#%% md\n"
    }
   }
  },
  {
   "cell_type": "code",
   "execution_count": 12,
   "outputs": [],
   "source": [
    "ff = FeedForward(dataset=pos_ff,\n",
    "                 x_dim=pos_ff.get_numpy_dataset()[0].shape[1:],\n",
    "                 n_class=len(pos_ff.get_tags_names()),\n",
    "                 learning_rate=1e-2,\n",
    "                 clip_norm=0.1,\n",
    "                 early_stop_vars=early_stop_vars)"
   ],
   "metadata": {
    "collapsed": false,
    "pycharm": {
     "name": "#%%\n"
    }
   }
  },
  {
   "cell_type": "code",
   "execution_count": 13,
   "outputs": [
    {
     "name": "stdout",
     "output_type": "stream",
     "text": [
      "Epoch 1 finished\n",
      "train cost: 1.7211272716522217\n",
      "train score: 0.38910868763923645\n",
      "val cost: 1.803920865058899\n",
      "val score: 0.3563788831233978\n",
      "Epoch 2 finished\n",
      "train cost: 1.6171690225601196\n",
      "train score: 0.41804826259613037\n",
      "val cost: 1.7150495052337646\n",
      "val score: 0.3810555636882782\n",
      "Epoch 3 finished\n",
      "train cost: 1.5539666414260864\n",
      "train score: 0.4336835741996765\n",
      "val cost: 1.6663367748260498\n",
      "val score: 0.3996504843235016\n",
      "Epoch 4 finished\n",
      "train cost: 1.51417076587677\n",
      "train score: 0.4424848258495331\n",
      "val cost: 1.634926438331604\n",
      "val score: 0.4048234820365906\n",
      "Epoch 5 finished\n",
      "train cost: 1.4873731136322021\n",
      "train score: 0.44819313287734985\n",
      "val cost: 1.6250123977661133\n",
      "val score: 0.4082489013671875\n",
      "Epoch 6 finished\n",
      "train cost: 1.4506456851959229\n",
      "train score: 0.46145185828208923\n",
      "val cost: 1.6032854318618774\n",
      "val score: 0.41726669669151306\n",
      "Epoch 7 finished\n",
      "train cost: 1.4122003316879272\n",
      "train score: 0.47477883100509644\n",
      "val cost: 1.596621036529541\n",
      "val score: 0.41691717505455017\n",
      "Epoch 8 finished\n",
      "train cost: 1.381496548652649\n",
      "train score: 0.48812854290008545\n",
      "val cost: 1.5796775817871094\n",
      "val score: 0.42544564604759216\n",
      "Epoch 9 finished\n",
      "train cost: 1.352750301361084\n",
      "train score: 0.498942494392395\n",
      "val cost: 1.5722309350967407\n",
      "val score: 0.42929044365882874\n",
      "Epoch 10 finished\n",
      "train cost: 1.334181785583496\n",
      "train score: 0.5069250464439392\n",
      "val cost: 1.577248454093933\n",
      "val score: 0.4256553649902344\n",
      "Epoch 11 finished\n",
      "train cost: 1.3155001401901245\n",
      "train score: 0.5120078921318054\n",
      "val cost: 1.5754890441894531\n",
      "val score: 0.43173715472221375\n",
      "Epoch 12 finished\n",
      "train cost: 1.2928051948547363\n",
      "train score: 0.5204680562019348\n",
      "val cost: 1.5554381608963013\n",
      "val score: 0.43879762291908264\n",
      "Epoch 13 finished\n",
      "train cost: 1.2769185304641724\n",
      "train score: 0.5245047807693481\n",
      "val cost: 1.5558267831802368\n",
      "val score: 0.43711990118026733\n",
      "Epoch 14 finished\n",
      "train cost: 1.2662981748580933\n",
      "train score: 0.5283027291297913\n",
      "val cost: 1.5639705657958984\n",
      "val score: 0.44194337725639343\n",
      "Epoch 15 finished\n",
      "train cost: 1.252618670463562\n",
      "train score: 0.5344886183738708\n",
      "val cost: 1.573164701461792\n",
      "val score: 0.45012232661247253\n",
      "Epoch 16 finished\n",
      "train cost: 1.2440907955169678\n",
      "train score: 0.5382866263389587\n",
      "val cost: 1.5721219778060913\n",
      "val score: 0.4489339292049408\n",
      "Epoch 17 finished\n",
      "train cost: 1.244663953781128\n",
      "train score: 0.5369675755500793\n",
      "val cost: 1.5715383291244507\n",
      "val score: 0.44851449131965637\n",
      "Epoch 18 finished\n",
      "train cost: 1.248790979385376\n",
      "train score: 0.5367515087127686\n",
      "val cost: 1.590216040611267\n",
      "val score: 0.44257253408432007\n",
      "Epoch 19 finished\n",
      "train cost: 1.2254289388656616\n",
      "train score: 0.5456664562225342\n",
      "val cost: 1.5750926733016968\n",
      "val score: 0.4476756453514099\n",
      "Epoch 20 finished\n",
      "train cost: 1.2260887622833252\n",
      "train score: 0.5479065775871277\n",
      "val cost: 1.59111487865448\n",
      "val score: 0.4450891315937042\n",
      "Epoch 21 finished\n",
      "train cost: 1.2242872714996338\n",
      "train score: 0.5469855070114136\n",
      "val cost: 1.5895931720733643\n",
      "val score: 0.4428521394729614\n",
      "Epoch 22 finished\n",
      "train cost: 1.2400926351547241\n",
      "train score: 0.5433581471443176\n",
      "val cost: 1.609466314315796\n",
      "val score: 0.43788886070251465\n",
      "Stop Training\n"
     ]
    }
   ],
   "source": [
    "ff.train(pos_ff, 50, print_types=['train', 'val'])"
   ],
   "metadata": {
    "collapsed": false,
    "pycharm": {
     "name": "#%%\n"
    }
   }
  },
  {
   "cell_type": "code",
   "execution_count": 14,
   "outputs": [],
   "source": [
    "rnn = RNN(pos_rnn.get_max_length_sent(),\n",
    "          pos_rnn.get_vocab_size(),\n",
    "          pos_rnn.get_tags_size(),\n",
    "          pos_rnn.get_embedding_matrix(),\n",
    "          dataset=pos_rnn,\n",
    "          class_weights=class_weights,\n",
    "          learning_rate=1e-1,\n",
    "          clip_norm=0.1,\n",
    "          early_stop_vars=early_stop_vars)"
   ],
   "metadata": {
    "collapsed": false,
    "pycharm": {
     "name": "#%%\n"
    }
   }
  },
  {
   "cell_type": "code",
   "execution_count": 15,
   "outputs": [
    {
     "name": "stderr",
     "output_type": "stream",
     "text": [
      "2021-10-26 10:13:34.820902: I tensorflow/stream_executor/cuda/cuda_dnn.cc:369] Loaded cuDNN version 8101\n"
     ]
    },
    {
     "name": "stdout",
     "output_type": "stream",
     "text": [
      "Epoch 1 finished\n",
      "WARNING:tensorflow:AutoGraph could not transform <bound method ClassWeightedCategoricalCrossEntropy.update_state of <algomorphism.metrics.ClassWeightedCategoricalCrossEntropy object at 0x7fc3c3b25430>> and will run it as-is.\n",
      "Cause: mangled names are not yet supported\n",
      "To silence this warning, decorate the function with @tf.autograph.experimental.do_not_convert\n",
      "WARNING: AutoGraph could not transform <bound method ClassWeightedCategoricalCrossEntropy.update_state of <algomorphism.metrics.ClassWeightedCategoricalCrossEntropy object at 0x7fc3c3b25430>> and will run it as-is.\n",
      "Cause: mangled names are not yet supported\n",
      "To silence this warning, decorate the function with @tf.autograph.experimental.do_not_convert\n",
      "WARNING:tensorflow:AutoGraph could not transform <bound method ClassWeightedCategoricalCrossEntropy.result of <algomorphism.metrics.ClassWeightedCategoricalCrossEntropy object at 0x7fc3c3b25430>> and will run it as-is.\n",
      "Cause: mangled names are not yet supported\n",
      "To silence this warning, decorate the function with @tf.autograph.experimental.do_not_convert\n",
      "WARNING: AutoGraph could not transform <bound method ClassWeightedCategoricalCrossEntropy.result of <algomorphism.metrics.ClassWeightedCategoricalCrossEntropy object at 0x7fc3c3b25430>> and will run it as-is.\n",
      "Cause: mangled names are not yet supported\n",
      "To silence this warning, decorate the function with @tf.autograph.experimental.do_not_convert\n",
      "train cost: 0.42772895097732544\n",
      "train score: 0.8707289099693298\n",
      "val cost: 0.4530748128890991\n",
      "val score: 0.8625519871711731\n",
      "Epoch 2 finished\n",
      "train cost: 0.32033610343933105\n",
      "train score: 0.9029008150100708\n",
      "val cost: 0.3465965688228607\n",
      "val score: 0.891656756401062\n",
      "Epoch 3 finished\n",
      "train cost: 0.24970069527626038\n",
      "train score: 0.920144259929657\n",
      "val cost: 0.27267464995384216\n",
      "val score: 0.9123740196228027\n",
      "Epoch 4 finished\n",
      "train cost: 0.1988108605146408\n",
      "train score: 0.9371058940887451\n",
      "val cost: 0.21682198345661163\n",
      "val score: 0.9323603510856628\n",
      "Epoch 5 finished\n",
      "train cost: 0.1632372885942459\n",
      "train score: 0.9485158920288086\n",
      "val cost: 0.17789776623249054\n",
      "val score: 0.9431324005126953\n",
      "Epoch 6 finished\n",
      "train cost: 0.13809603452682495\n",
      "train score: 0.9555048942565918\n",
      "val cost: 0.15002921223640442\n",
      "val score: 0.9512922763824463\n",
      "Epoch 7 finished\n",
      "train cost: 0.12375941872596741\n",
      "train score: 0.9583975076675415\n",
      "val cost: 0.13696590065956116\n",
      "val score: 0.9551984667778015\n",
      "Epoch 8 finished\n",
      "train cost: 0.11231173574924469\n",
      "train score: 0.9621551036834717\n",
      "val cost: 0.12435045838356018\n",
      "val score: 0.9585175514221191\n",
      "Epoch 9 finished\n",
      "train cost: 0.1045241728425026\n",
      "train score: 0.9643807411193848\n",
      "val cost: 0.1169009804725647\n",
      "val score: 0.9604227542877197\n",
      "Epoch 10 finished\n",
      "train cost: 0.09711214154958725\n",
      "train score: 0.9672091603279114\n",
      "val cost: 0.10924913734197617\n",
      "val score: 0.9635980129241943\n",
      "Epoch 11 finished\n",
      "train cost: 0.09081465750932693\n",
      "train score: 0.9699145555496216\n",
      "val cost: 0.10222988575696945\n",
      "val score: 0.9663898944854736\n",
      "Epoch 12 finished\n",
      "train cost: 0.08794791251420975\n",
      "train score: 0.9705672264099121\n",
      "val cost: 0.1002105325460434\n",
      "val score: 0.9665935635566711\n",
      "Epoch 13 finished\n",
      "train cost: 0.08522122353315353\n",
      "train score: 0.9715409874916077\n",
      "val cost: 0.0966276153922081\n",
      "val score: 0.9677917957305908\n",
      "Epoch 14 finished\n",
      "train cost: 0.08528566360473633\n",
      "train score: 0.9712770581245422\n",
      "val cost: 0.09774341434240341\n",
      "val score: 0.9670369029045105\n",
      "Epoch 15 finished\n",
      "train cost: 0.08375105261802673\n",
      "train score: 0.9718281030654907\n",
      "val cost: 0.09661383181810379\n",
      "val score: 0.9676001071929932\n",
      "Epoch 16 finished\n",
      "train cost: 0.08022337406873703\n",
      "train score: 0.9735276699066162\n",
      "val cost: 0.09500903636217117\n",
      "val score: 0.96864253282547\n",
      "Epoch 17 finished\n",
      "train cost: 0.0818086564540863\n",
      "train score: 0.9730657339096069\n",
      "val cost: 0.09755966067314148\n",
      "val score: 0.9684028625488281\n",
      "Epoch 18 finished\n",
      "train cost: 0.08175977319478989\n",
      "train score: 0.9730461239814758\n",
      "val cost: 0.09323608130216599\n",
      "val score: 0.9687862992286682\n",
      "Epoch 19 finished\n",
      "train cost: 0.0821915715932846\n",
      "train score: 0.9727376103401184\n",
      "val cost: 0.09599713236093521\n",
      "val score: 0.9684268832206726\n",
      "Epoch 20 finished\n",
      "train cost: 0.0837986096739769\n",
      "train score: 0.9719190001487732\n",
      "val cost: 0.10207091271877289\n",
      "val score: 0.9673125147819519\n",
      "Stop Training\n"
     ]
    }
   ],
   "source": [
    "rnn.train(pos_rnn, 50, print_types=['train', 'val'])"
   ],
   "metadata": {
    "collapsed": false,
    "pycharm": {
     "name": "#%%\n"
    }
   }
  },
  {
   "cell_type": "markdown",
   "source": [
    "## POS Tagging examples"
   ],
   "metadata": {
    "collapsed": false,
    "pycharm": {
     "name": "#%% md\n"
    }
   }
  },
  {
   "cell_type": "code",
   "execution_count": 16,
   "outputs": [],
   "source": [
    "def ff_tagger(sentence, ff_model, pos_ff_dataset_obj:PosFfDataset):\n",
    "    window_embedings, listtag = pos_ff_dataset_obj.window_word2vec_sentece(sentence)\n",
    "    pr = ff_model([window_embedings])[0]\n",
    "    pr = pos_ff_dataset_obj.get_numpy2tag(pr,onehot=True)\n",
    "    not_none_cnt = 0\n",
    "    for i in range(len(listtag)):\n",
    "      if listtag[i][1] != None:\n",
    "        print((listtag[i][0], pr[not_none_cnt]))\n",
    "        not_none_cnt += 1\n",
    "    print()\n",
    "\n",
    "def rnn_tagger(sentence, rnn_model, pos_rnn_dataset_obj):\n",
    "  encode = pos_rnn_dataset_obj.sents_encode([sentence])\n",
    "  encode = tf.cast(encode, tf.int32)\n",
    "  pr = rnn_model.call([encode])[0].numpy().argmax(axis=-1) + 1\n",
    "  pr = pos_rnn_dataset_obj.tag_decode(pr)\n",
    "  for x, y in zip(sentence.split(), pr[0].split()):\n",
    "    print((x, y))\n",
    "  print()"
   ],
   "metadata": {
    "collapsed": false,
    "pycharm": {
     "name": "#%%\n"
    }
   }
  },
  {
   "cell_type": "code",
   "execution_count": 17,
   "outputs": [
    {
     "name": "stdout",
     "output_type": "stream",
     "text": [
      "FeedForward POS Tagger \n",
      "======================\n",
      "('we', 'VERB')\n",
      "('create', 'VERB')\n",
      "('a', 'DET')\n",
      "('pos', 'DET')\n",
      "('tagger', 'NOUN')\n",
      "('and', 'PUNCT')\n",
      "('we', 'PRON')\n",
      "('are', 'AUX')\n",
      "('very', 'ADV')\n",
      "('happy', 'ADV')\n",
      "('for', 'VERB')\n",
      "('that', 'PRON')\n",
      "('!', 'PUNCT')\n",
      "\n",
      "('hello', 'PUNCT')\n",
      "('there', 'PUNCT')\n",
      "('!', 'PUNCT')\n",
      "('!', 'PUNCT')\n",
      "\n",
      "('how', 'PRON')\n",
      "('are', 'PRON')\n",
      "('you', 'PRON')\n",
      "('?', 'PUNCT')\n",
      "\n",
      "('aesthetic', 'ADJ')\n",
      "('appreciation', 'ADJ')\n",
      "('and', 'PUNCT')\n",
      "('spanish', 'PUNCT')\n",
      "('art', 'NOUN')\n",
      "(':', 'NOUN')\n",
      "\n",
      "RNN POS Tagger \n",
      "==============\n",
      "('we', 'PRON')\n",
      "('create', 'VERB')\n",
      "('a', 'DET')\n",
      "('pos', 'NOUN')\n",
      "('tagger', 'NOUN')\n",
      "('and', 'CCONJ')\n",
      "('we', 'PRON')\n",
      "('are', 'AUX')\n",
      "('very', 'ADV')\n",
      "('happy', 'ADJ')\n",
      "('for', 'ADP')\n",
      "('that', 'PRON')\n",
      "('!', 'PUNCT')\n",
      "\n",
      "('hello', 'INTJ')\n",
      "('there', 'PRON')\n",
      "('!', 'PUNCT')\n",
      "('!', 'PUNCT')\n",
      "\n",
      "('how', 'PRON')\n",
      "('are', 'AUX')\n",
      "('you', 'PRON')\n",
      "('?', 'PUNCT')\n",
      "\n",
      "('aesthetic', 'ADJ')\n",
      "('appreciation', 'NOUN')\n",
      "('and', 'CCONJ')\n",
      "('spanish', 'ADJ')\n",
      "('art', 'NOUN')\n",
      "(':', 'PUNCT')\n",
      "\n"
     ]
    }
   ],
   "source": [
    "print('FeedForward POS Tagger \\n{}'.format('='*22))\n",
    "\n",
    "ff_tagger('we create a pos tagger and we are very happy for that !', ff, pos_ff)\n",
    "ff_tagger('hello there ! !', ff, pos_ff)\n",
    "ff_tagger('how are you ?', ff, pos_ff)\n",
    "ff_tagger('aesthetic appreciation and spanish art :', ff, pos_ff)\n",
    "\n",
    "print('RNN POS Tagger \\n{}'.format('='*14))\n",
    "\n",
    "rnn_tagger('we create a pos tagger and we are very happy for that !', rnn, pos_rnn)\n",
    "rnn_tagger('hello there ! !', rnn, pos_rnn)\n",
    "rnn_tagger('how are you ?', rnn, pos_rnn)\n",
    "rnn_tagger('aesthetic appreciation and spanish art :', rnn, pos_rnn)"
   ],
   "metadata": {
    "collapsed": false,
    "pycharm": {
     "name": "#%%\n"
    }
   }
  },
  {
   "cell_type": "markdown",
   "source": [
    "## Results Visualization"
   ],
   "metadata": {
    "collapsed": false,
    "pycharm": {
     "name": "#%% md\n"
    }
   }
  },
  {
   "cell_type": "markdown",
   "source": [
    "Create precision recall curve object"
   ],
   "metadata": {
    "collapsed": false,
    "pycharm": {
     "name": "#%% md\n"
    }
   }
  },
  {
   "cell_type": "code",
   "execution_count": 18,
   "outputs": [],
   "source": [
    "class PrecisionRecallCurve(tf.keras.metrics.Metric):\n",
    "  def __init__(self,thresholds=None):\n",
    "    super(PrecisionRecallCurve, self).__init__(name='prc')\n",
    "    self.__precision = tf.keras.metrics.Precision(thresholds=thresholds)\n",
    "    self.__recall = tf.keras.metrics.Recall(thresholds=thresholds)\n",
    "\n",
    "  def update_state(self, y_true, y_pred):\n",
    "    self.__precision.update_state(y_true, y_pred)\n",
    "    self.__recall.update_state(y_true, y_pred)\n",
    "\n",
    "  def result(self):\n",
    "    precision = self.__precision.result().numpy()\n",
    "    recall = self.__recall.result().numpy()\n",
    "\n",
    "    precision = self.__fix_precision(precision)\n",
    "    auc = np.sum((precision[1:] - precision[:-1])*recall[:-1])\n",
    "    return auc\n",
    "\n",
    "  def get_precision(self):\n",
    "    precision = self.__precision.result().numpy()\n",
    "    precision = self.__fix_precision(precision)\n",
    "    return precision\n",
    "\n",
    "  def get_recall(self):\n",
    "    return self.__recall.result().numpy()\n",
    "\n",
    "  def reset_states(self):\n",
    "    self.__precision.reset_state()\n",
    "    self.__recall.reset_state()\n",
    "\n",
    "  def __fix_precision(self, precision):\n",
    "    argmax_precision = precision.argmax()\n",
    "    precision[argmax_precision:] = 1.0\n",
    "    return precision"
   ],
   "metadata": {
    "collapsed": false,
    "pycharm": {
     "name": "#%%\n"
    }
   }
  },
  {
   "cell_type": "markdown",
   "source": [
    "Plot history (Cost & Score per epoch) by nn models."
   ],
   "metadata": {
    "collapsed": false
   }
  },
  {
   "cell_type": "code",
   "execution_count": 19,
   "outputs": [
    {
     "data": {
      "text/plain": "<Figure size 1152x576 with 2 Axes>",
      "image/png": "[encoded data removed]"
     },
     "metadata": {
      "needs_background": "light"
     },
     "output_type": "display_data"
    }
   ],
   "source": [
    "multiple_models_history_figure([rnn, ff])"
   ],
   "metadata": {
    "collapsed": false,
    "pycharm": {
     "name": "#%%\n"
    }
   }
  },
  {
   "cell_type": "markdown",
   "source": [
    "Plot precision recall curve and print AUC by nn models."
   ],
   "metadata": {
    "collapsed": false
   }
  },
  {
   "cell_type": "code",
   "execution_count": 20,
   "outputs": [
    {
     "name": "stdout",
     "output_type": "stream",
     "text": [
      "WARNING:tensorflow:AutoGraph could not transform <bound method PrecisionRecallCurve.update_state of <__main__.PrecisionRecallCurve object at 0x7fc3c1de4b80>> and will run it as-is.\n",
      "Cause: mangled names are not yet supported\n",
      "To silence this warning, decorate the function with @tf.autograph.experimental.do_not_convert\n",
      "WARNING: AutoGraph could not transform <bound method PrecisionRecallCurve.update_state of <__main__.PrecisionRecallCurve object at 0x7fc3c1de4b80>> and will run it as-is.\n",
      "Cause: mangled names are not yet supported\n",
      "To silence this warning, decorate the function with @tf.autograph.experimental.do_not_convert\n",
      "WARNING:tensorflow:AutoGraph could not transform <bound method PrecisionRecallCurve.result of <__main__.PrecisionRecallCurve object at 0x7fc3c1de4b80>> and will run it as-is.\n",
      "Cause: mangled names are not yet supported\n",
      "To silence this warning, decorate the function with @tf.autograph.experimental.do_not_convert\n",
      "WARNING: AutoGraph could not transform <bound method PrecisionRecallCurve.result of <__main__.PrecisionRecallCurve object at 0x7fc3c1de4b80>> and will run it as-is.\n",
      "Cause: mangled names are not yet supported\n",
      "To silence this warning, decorate the function with @tf.autograph.experimental.do_not_convert\n"
     ]
    },
    {
     "data": {
      "text/plain": "Text(0.5, 1.0, 'Test auc per model')"
     },
     "execution_count": 20,
     "metadata": {},
     "output_type": "execute_result"
    },
    {
     "data": {
      "text/plain": "<Figure size 576x576 with 1 Axes>",
      "image/png": "[encoded data removed]"
     },
     "metadata": {
      "needs_background": "light"
     },
     "output_type": "display_data"
    }
   ],
   "source": [
    "plt.figure(figsize=(8,8))\n",
    "label_base = r'$model:{}, \\; auc:{:.2f}$'\n",
    "prc = PrecisionRecallCurve(np.linspace(0,1,100).tolist())\n",
    "\n",
    "for x, y_true in pos_ff.test:\n",
    "  y_pred = ff([x])[0]\n",
    "  prc.update_state(y_true, y_pred)\n",
    "auc = prc.result()\n",
    "precision = prc.get_precision()\n",
    "recall = prc.get_recall()\n",
    "plt.plot(precision, recall,'--', label=label_base.format(ff.name, auc))\n",
    "\n",
    "prc.reset_states()\n",
    "\n",
    "for x, y_true in pos_rnn.test:\n",
    "  y_pred = rnn([x])[0]\n",
    "  prc.update_state(y_true, y_pred)\n",
    "auc = prc.result()\n",
    "precision = prc.get_precision()\n",
    "recall = prc.get_recall()\n",
    "plt.plot(precision, recall, label=label_base.format(rnn.name, auc))\n",
    "\n",
    "plt.legend(fontsize=16, loc='lower left')\n",
    "plt.xlabel(r\"$precision$\", fontsize=12)\n",
    "plt.ylabel(r\"$recall$\", fontsize=12)\n",
    "plt.title(\"Test auc per model\")"
   ],
   "metadata": {
    "collapsed": false,
    "pycharm": {
     "name": "#%%\n"
    }
   }
  },
  {
   "cell_type": "markdown",
   "source": [
    "## References\n",
    "- UD_English-GUM Dataset: [https://github.com/UniversalDependencies/UD_English-GUM](https://github.com/UniversalDependencies/UD_English-GUM)\n",
    "- GloVe: [https://nlp.stanford.edu/projects/glove/](https://nlp.stanford.edu/projects/glove/)\n",
    "- Slided Window POS Tagger: [https://www.dlsi.ua.es/~mlf/docum/sanchezvillamil04p.pdf](https://www.dlsi.ua.es/~mlf/docum/sanchezvillamil04p.pdf)\n"
   ],
   "metadata": {
    "collapsed": false,
    "pycharm": {
     "name": "#%% md\n"
    }
   }
  }
 ],
 "metadata": {
  "kernelspec": {
   "display_name": "Python 3",
   "language": "python",
   "name": "python3"
  },
  "language_info": {
   "codemirror_mode": {
    "name": "ipython",
    "version": 2
   },
   "file_extension": ".py",
   "mimetype": "text/x-python",
   "name": "python",
   "nbconvert_exporter": "python",
   "pygments_lexer": "ipython2",
   "version": "2.7.6"
  }
 },
 "nbformat": 4,
 "nbformat_minor": 0
}